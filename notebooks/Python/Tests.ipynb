{
 "cells": [
  {
   "cell_type": "code",
   "execution_count": 1,
   "id": "92775842-7bf4-4a24-a3b6-4c860b2dc48c",
   "metadata": {
    "tags": []
   },
   "outputs": [],
   "source": [
    "from datetime import date,datetime\n",
    "import pandas as pd\n",
    "import numpy as np\n",
    "import json \n",
    "\n",
    "import aips_gathering as aips"
   ]
  },
  {
   "cell_type": "code",
   "execution_count": 142,
   "id": "c1bcacf1-f619-4ce6-9819-b677d4fbfce4",
   "metadata": {
    "tags": []
   },
   "outputs": [
    {
     "name": "stdout",
     "output_type": "stream",
     "text": [
      "The autoreload extension is already loaded. To reload it, use:\n",
      "  %reload_ext autoreload\n"
     ]
    }
   ],
   "source": [
    "%load_ext autoreload\n",
    "%autoreload 2\n",
    "\n",
    "from download_functions import *\n",
    "from enrich_functions import *"
   ]
  },
  {
   "cell_type": "code",
   "execution_count": 3,
   "id": "662e03df-fcb0-467c-a51a-729e4c80a1f7",
   "metadata": {
    "tags": []
   },
   "outputs": [
    {
     "name": "stdin",
     "output_type": "stream",
     "text": [
      "Please inform Catho secrets ········\n"
     ]
    }
   ],
   "source": [
    "aips.ask_secrets_catho()"
   ]
  },
  {
   "cell_type": "code",
   "execution_count": 4,
   "id": "1b5f2c1f-0a1b-4fdf-8b1c-58679e85e602",
   "metadata": {
    "tags": []
   },
   "outputs": [],
   "source": [
    "S3_PATH = \"s3://ai-analytics-sotq-framework/catho/new_data/\""
   ]
  },
  {
   "cell_type": "code",
   "execution_count": 5,
   "id": "f3ef283d-d8f9-459e-935d-d4af6b46a0f6",
   "metadata": {
    "tags": []
   },
   "outputs": [
    {
     "data": {
      "text/plain": [
       "[datetime.date(2023, 10, 1),\n",
       " datetime.date(2023, 10, 2),\n",
       " datetime.date(2023, 10, 3),\n",
       " datetime.date(2023, 10, 4),\n",
       " datetime.date(2023, 10, 5),\n",
       " datetime.date(2023, 10, 6),\n",
       " datetime.date(2023, 10, 7),\n",
       " datetime.date(2023, 10, 8),\n",
       " datetime.date(2023, 10, 9),\n",
       " datetime.date(2023, 10, 10),\n",
       " datetime.date(2023, 10, 11),\n",
       " datetime.date(2023, 10, 12),\n",
       " datetime.date(2023, 10, 13),\n",
       " datetime.date(2023, 10, 14),\n",
       " datetime.date(2023, 10, 15),\n",
       " datetime.date(2023, 10, 16),\n",
       " datetime.date(2023, 10, 17),\n",
       " datetime.date(2023, 10, 18),\n",
       " datetime.date(2023, 10, 19),\n",
       " datetime.date(2023, 10, 20),\n",
       " datetime.date(2023, 10, 21),\n",
       " datetime.date(2023, 10, 22),\n",
       " datetime.date(2023, 10, 23),\n",
       " datetime.date(2023, 10, 24),\n",
       " datetime.date(2023, 10, 25),\n",
       " datetime.date(2023, 10, 26),\n",
       " datetime.date(2023, 10, 27),\n",
       " datetime.date(2023, 10, 28),\n",
       " datetime.date(2023, 10, 29),\n",
       " datetime.date(2023, 10, 30),\n",
       " datetime.date(2023, 10, 31)]"
      ]
     },
     "execution_count": 5,
     "metadata": {},
     "output_type": "execute_result"
    }
   ],
   "source": [
    "# Define the list of dates to be retrieved\n",
    "target_dates = list(aips.date_range(date(2023, 10, 1), date(2023, 10, 31)))\n",
    "target_dates"
   ]
  },
  {
   "cell_type": "markdown",
   "id": "4faa8294-9169-41a1-ad7d-b4376cfd6010",
   "metadata": {},
   "source": [
    "## Downloading raw data"
   ]
  },
  {
   "cell_type": "code",
   "execution_count": 9,
   "id": "ef0ca5b2-1299-460a-9fd0-7ed3bdfe518e",
   "metadata": {
    "tags": []
   },
   "outputs": [
    {
     "name": "stdout",
     "output_type": "stream",
     "text": [
      "Overwriting data...\n"
     ]
    },
    {
     "data": {
      "application/vnd.jupyter.widget-view+json": {
       "model_id": "abf3121f06444194a367e69bffb05c01",
       "version_major": 2,
       "version_minor": 0
      },
      "text/plain": [
       "  0%|          | 0/31 [00:00<?, ?it/s]"
      ]
     },
     "metadata": {},
     "output_type": "display_data"
    }
   ],
   "source": [
    "download_by_date(\n",
    "  aips.create_conn_db_catho(aips.get_secret(\"MYSQL_CATHO_HOST_WAREHOUSE\")), \n",
    "  download_applies_daily, \n",
    "  S3_PATH+\"python-test/raw/applies/\",\n",
    "  target_dates,\n",
    "  overwrite=True,\n",
    "  n_threads=5\n",
    ")"
   ]
  },
  {
   "cell_type": "code",
   "execution_count": 10,
   "id": "75365fb4-3057-4261-ab8a-f8734ced19b9",
   "metadata": {
    "tags": []
   },
   "outputs": [
    {
     "name": "stdout",
     "output_type": "stream",
     "text": [
      "Overwriting data...\n"
     ]
    },
    {
     "data": {
      "application/vnd.jupyter.widget-view+json": {
       "model_id": "263c3117ddad48c1949d7586fc70a07e",
       "version_major": 2,
       "version_minor": 0
      },
      "text/plain": [
       "  0%|          | 0/31 [00:00<?, ?it/s]"
      ]
     },
     "metadata": {},
     "output_type": "display_data"
    }
   ],
   "source": [
    "download_by_date(\n",
    "  aips.create_conn_db_catho(aips.get_secret(\"MYSQL_CATHO_HOST_WAREHOUSE\")), \n",
    "  download_apply_attempts_daily, \n",
    "  S3_PATH+\"python-test/raw/applies-attempts/\",\n",
    "  target_dates,\n",
    "  overwrite=True,\n",
    "  n_threads=5\n",
    ")"
   ]
  },
  {
   "cell_type": "code",
   "execution_count": 11,
   "id": "6d69a539-5c87-4649-a258-ee553a507a3b",
   "metadata": {
    "tags": []
   },
   "outputs": [
    {
     "name": "stdout",
     "output_type": "stream",
     "text": [
      "Overwriting data...\n"
     ]
    },
    {
     "data": {
      "application/vnd.jupyter.widget-view+json": {
       "model_id": "c78501e03714436398aeb0c54c50f7fd",
       "version_major": 2,
       "version_minor": 0
      },
      "text/plain": [
       "  0%|          | 0/31 [00:00<?, ?it/s]"
      ]
     },
     "metadata": {},
     "output_type": "display_data"
    }
   ],
   "source": [
    "download_by_date(\n",
    "  aips.create_conn_db_catho(aips.get_secret(\"MYSQL_CATHO_HOST_WAREHOUSE\")), \n",
    "  download_contacts_daily, \n",
    "  S3_PATH+\"python-test/raw/contacts/\",\n",
    "  target_dates,\n",
    "  overwrite=True,\n",
    "  n_threads=5\n",
    ")"
   ]
  },
  {
   "cell_type": "code",
   "execution_count": 12,
   "id": "14c4bf0e-8854-4bf4-9247-14ec2e4d3782",
   "metadata": {
    "tags": []
   },
   "outputs": [
    {
     "name": "stdout",
     "output_type": "stream",
     "text": [
      "Overwriting data...\n"
     ]
    },
    {
     "data": {
      "application/vnd.jupyter.widget-view+json": {
       "model_id": "42bcdf2b152d4a35af196c6ee0bcc130",
       "version_major": 2,
       "version_minor": 0
      },
      "text/plain": [
       "  0%|          | 0/31 [00:00<?, ?it/s]"
      ]
     },
     "metadata": {},
     "output_type": "display_data"
    }
   ],
   "source": [
    "download_by_date(\n",
    "  aips.create_conn_db_catho(aips.get_secret(\"MYSQL_CATHO_HOST_WAREHOUSE\")), \n",
    "  download_job_postings_daily, \n",
    "  S3_PATH+\"python-test/raw/job-postings/\",\n",
    "  target_dates,\n",
    "  overwrite=True,\n",
    "  n_threads=5\n",
    ")"
   ]
  },
  {
   "cell_type": "code",
   "execution_count": 13,
   "id": "3f1952f2-7b06-4517-b52c-45762ae1d320",
   "metadata": {
    "tags": []
   },
   "outputs": [
    {
     "name": "stdout",
     "output_type": "stream",
     "text": [
      "Overwriting data...\n"
     ]
    },
    {
     "data": {
      "application/vnd.jupyter.widget-view+json": {
       "model_id": "5437a938ac3e4123a500cf9a91b94656",
       "version_major": 2,
       "version_minor": 0
      },
      "text/plain": [
       "  0%|          | 0/31 [00:00<?, ?it/s]"
      ]
     },
     "metadata": {},
     "output_type": "display_data"
    }
   ],
   "source": [
    "download_by_date(\n",
    "  aips.create_conn_db_catho(aips.get_secret(\"MYSQL_CATHO_HOST_WAREHOUSE\")), \n",
    "  download_active_jobs_daily, \n",
    "  S3_PATH+\"python-test/raw/active-jobs/\",\n",
    "  target_dates,\n",
    "  overwrite=True,\n",
    "  n_threads=5\n",
    ")"
   ]
  },
  {
   "cell_type": "code",
   "execution_count": 14,
   "id": "5c76503e-3c37-46c4-844b-3a89728d10e7",
   "metadata": {
    "tags": []
   },
   "outputs": [
    {
     "name": "stdout",
     "output_type": "stream",
     "text": [
      "Overwriting data...\n"
     ]
    },
    {
     "data": {
      "application/vnd.jupyter.widget-view+json": {
       "model_id": "ca9236f0f93448829761b45bfe00207a",
       "version_major": 2,
       "version_minor": 0
      },
      "text/plain": [
       "  0%|          | 0/31 [00:00<?, ?it/s]"
      ]
     },
     "metadata": {},
     "output_type": "display_data"
    }
   ],
   "source": [
    "download_by_date(\n",
    "  aips.create_conn_db_catho(aips.get_secret(\"MYSQL_CATHO_HOST_WAREHOUSE\")), \n",
    "  download_job_organic_logged_searches_daily, \n",
    "  S3_PATH+\"python-test/raw/job-organic-logged-searches/\",\n",
    "  target_dates,\n",
    "  overwrite=True,\n",
    "  n_threads=5\n",
    ")"
   ]
  },
  {
   "cell_type": "code",
   "execution_count": 15,
   "id": "6bc3b1d9-7cdc-4c70-8456-92e84b3768ed",
   "metadata": {
    "tags": []
   },
   "outputs": [
    {
     "name": "stdout",
     "output_type": "stream",
     "text": [
      "Overwriting data...\n"
     ]
    },
    {
     "data": {
      "application/vnd.jupyter.widget-view+json": {
       "model_id": "0681d88d2d184be195ccb2f6dc416681",
       "version_major": 2,
       "version_minor": 0
      },
      "text/plain": [
       "  0%|          | 0/31 [00:00<?, ?it/s]"
      ]
     },
     "metadata": {},
     "output_type": "display_data"
    }
   ],
   "source": [
    "download_by_date(\n",
    "  aips.create_conn_db_catho(aips.get_secret(\"MYSQL_CATHO_HOST_WAREHOUSE\")), \n",
    "  download_cv_organic_logged_searches_daily, \n",
    "  S3_PATH+\"python-test/raw/cv-organic-logged-searches/\",\n",
    "  target_dates,\n",
    "  overwrite=True,\n",
    "  n_threads=5\n",
    ")"
   ]
  },
  {
   "cell_type": "markdown",
   "id": "a97b95ef-42c2-4807-b641-5927c4488a33",
   "metadata": {},
   "source": [
    "### Enriching data"
   ]
  },
  {
   "cell_type": "code",
   "execution_count": 16,
   "id": "15599dca-475f-4642-8ebc-35618974dc84",
   "metadata": {
    "tags": []
   },
   "outputs": [
    {
     "name": "stdout",
     "output_type": "stream",
     "text": [
      "Overwriting data...\n"
     ]
    },
    {
     "data": {
      "application/vnd.jupyter.widget-view+json": {
       "model_id": "17cee8ee0752420a93e6a0608bea77ef",
       "version_major": 2,
       "version_minor": 0
      },
      "text/plain": [
       "  0%|          | 0/31 [00:00<?, ?it/s]"
      ]
     },
     "metadata": {},
     "output_type": "display_data"
    }
   ],
   "source": [
    "enrich_by_date(\n",
    "  aips.create_conn_db_catho(aips.get_secret(\"MYSQL_CATHO_HOST_WAREHOUSE\")), \n",
    "  enrich_applies_daily, \n",
    "  S3_PATH+\"python-test/raw/applies/\", #raw\n",
    "  S3_PATH+\"python-test/enriched/applies/\",\n",
    "  target_dates,\n",
    "  overwrite=True,\n",
    "  n_threads=5\n",
    ")"
   ]
  },
  {
   "cell_type": "code",
   "execution_count": 17,
   "id": "f7e24523-2f26-42db-aa0f-214819b3acd8",
   "metadata": {
    "tags": []
   },
   "outputs": [
    {
     "name": "stdout",
     "output_type": "stream",
     "text": [
      "Overwriting data...\n"
     ]
    },
    {
     "data": {
      "application/vnd.jupyter.widget-view+json": {
       "model_id": "7d53db5b54364dca81d5ab3bdc9ffaaf",
       "version_major": 2,
       "version_minor": 0
      },
      "text/plain": [
       "  0%|          | 0/31 [00:00<?, ?it/s]"
      ]
     },
     "metadata": {},
     "output_type": "display_data"
    }
   ],
   "source": [
    "enrich_by_date(\n",
    "  aips.create_conn_db_catho(aips.get_secret(\"MYSQL_CATHO_HOST_WAREHOUSE\")), \n",
    "  enrich_apply_attempts_daily, \n",
    "  S3_PATH+\"python-test/raw/applies-attempts/\", # raw\n",
    "  S3_PATH+\"python-test/enriched/applies-attempts/\",\n",
    "  target_dates,\n",
    "  overwrite=True,\n",
    "  n_threads=5\n",
    ")"
   ]
  },
  {
   "cell_type": "code",
   "execution_count": 18,
   "id": "7a7a8cae-98d5-4efc-b3a8-8f7a509ddef4",
   "metadata": {
    "tags": []
   },
   "outputs": [
    {
     "name": "stdout",
     "output_type": "stream",
     "text": [
      "Overwriting data...\n"
     ]
    },
    {
     "data": {
      "application/vnd.jupyter.widget-view+json": {
       "model_id": "67b97022672d40949a4e20afd5833f9c",
       "version_major": 2,
       "version_minor": 0
      },
      "text/plain": [
       "  0%|          | 0/31 [00:00<?, ?it/s]"
      ]
     },
     "metadata": {},
     "output_type": "display_data"
    }
   ],
   "source": [
    "enrich_by_date(\n",
    "  aips.create_conn_db_catho(aips.get_secret(\"MYSQL_CATHO_HOST_WAREHOUSE\")), \n",
    "  enrich_contacts_daily, \n",
    "  S3_PATH+\"python-test/raw/contacts/\", # raw\n",
    "  S3_PATH+\"python-test/enriched/contacts/\",\n",
    "  target_dates,\n",
    "  overwrite=True,\n",
    "  n_threads=5\n",
    ")"
   ]
  },
  {
   "cell_type": "code",
   "execution_count": 143,
   "id": "375bd857-c305-4ba3-a4aa-506dbbad2a14",
   "metadata": {
    "tags": []
   },
   "outputs": [
    {
     "name": "stdout",
     "output_type": "stream",
     "text": [
      "Overwriting data...\n"
     ]
    },
    {
     "data": {
      "application/vnd.jupyter.widget-view+json": {
       "model_id": "01c63bb6083c4c989ba669f9fd5addac",
       "version_major": 2,
       "version_minor": 0
      },
      "text/plain": [
       "  0%|          | 0/31 [00:00<?, ?it/s]"
      ]
     },
     "metadata": {},
     "output_type": "display_data"
    },
    {
     "name": "stdout",
     "output_type": "stream",
     "text": [
      "List of 40,394 items will be split in 5 bulks of size 10,000\n"
     ]
    },
    {
     "data": {
      "application/vnd.jupyter.widget-view+json": {
       "model_id": "c8347ac1aad7434f9754013e7780497d",
       "version_major": 2,
       "version_minor": 0
      },
      "text/plain": [
       "  0%|          | 0/5 [00:00<?, ?it/s]"
      ]
     },
     "metadata": {},
     "output_type": "display_data"
    },
    {
     "name": "stdout",
     "output_type": "stream",
     "text": [
      "List of 85,375 items will be split in 9 bulks of size 10,000\n"
     ]
    },
    {
     "data": {
      "application/vnd.jupyter.widget-view+json": {
       "model_id": "15567d1feb6a467b8d91f35c88e22748",
       "version_major": 2,
       "version_minor": 0
      },
      "text/plain": [
       "  0%|          | 0/9 [00:00<?, ?it/s]"
      ]
     },
     "metadata": {},
     "output_type": "display_data"
    },
    {
     "name": "stdout",
     "output_type": "stream",
     "text": [
      "List of 89,600 items will be split in 9 bulks of size 10,000\n"
     ]
    },
    {
     "data": {
      "application/vnd.jupyter.widget-view+json": {
       "model_id": "77048901b59b48969de95524d660ec8f",
       "version_major": 2,
       "version_minor": 0
      },
      "text/plain": [
       "  0%|          | 0/9 [00:00<?, ?it/s]"
      ]
     },
     "metadata": {},
     "output_type": "display_data"
    },
    {
     "name": "stdout",
     "output_type": "stream",
     "text": [
      "List of 86,937 items will be split in 9 bulks of size 10,000\n"
     ]
    },
    {
     "data": {
      "application/vnd.jupyter.widget-view+json": {
       "model_id": "bd7152ec3da54443907dc829c4421142",
       "version_major": 2,
       "version_minor": 0
      },
      "text/plain": [
       "  0%|          | 0/9 [00:00<?, ?it/s]"
      ]
     },
     "metadata": {},
     "output_type": "display_data"
    },
    {
     "name": "stdout",
     "output_type": "stream",
     "text": [
      "List of 88,831 items will be split in 9 bulks of size 10,000\n"
     ]
    },
    {
     "data": {
      "application/vnd.jupyter.widget-view+json": {
       "model_id": "1382b819da084173853168e0f6e93b77",
       "version_major": 2,
       "version_minor": 0
      },
      "text/plain": [
       "  0%|          | 0/9 [00:00<?, ?it/s]"
      ]
     },
     "metadata": {},
     "output_type": "display_data"
    },
    {
     "name": "stdout",
     "output_type": "stream",
     "text": [
      "List of 72,702 items will be split in 8 bulks of size 10,000\n"
     ]
    },
    {
     "data": {
      "application/vnd.jupyter.widget-view+json": {
       "model_id": "a690fe83f6fb455c9be2bc24a4a3acdc",
       "version_major": 2,
       "version_minor": 0
      },
      "text/plain": [
       "  0%|          | 0/8 [00:00<?, ?it/s]"
      ]
     },
     "metadata": {},
     "output_type": "display_data"
    },
    {
     "name": "stdout",
     "output_type": "stream",
     "text": [
      "List of 39,863 items will be split in 4 bulks of size 10,000\n"
     ]
    },
    {
     "data": {
      "application/vnd.jupyter.widget-view+json": {
       "model_id": "ba1b52875e844ae89b211c856ca1c744",
       "version_major": 2,
       "version_minor": 0
      },
      "text/plain": [
       "  0%|          | 0/4 [00:00<?, ?it/s]"
      ]
     },
     "metadata": {},
     "output_type": "display_data"
    },
    {
     "name": "stdout",
     "output_type": "stream",
     "text": [
      "List of 38,957 items will be split in 4 bulks of size 10,000\n"
     ]
    },
    {
     "data": {
      "application/vnd.jupyter.widget-view+json": {
       "model_id": "9d5825f04f2342b9b5aa8733468454d8",
       "version_major": 2,
       "version_minor": 0
      },
      "text/plain": [
       "  0%|          | 0/4 [00:00<?, ?it/s]"
      ]
     },
     "metadata": {},
     "output_type": "display_data"
    },
    {
     "name": "stdout",
     "output_type": "stream",
     "text": [
      "List of 85,635 items will be split in 9 bulks of size 10,000\n"
     ]
    },
    {
     "data": {
      "application/vnd.jupyter.widget-view+json": {
       "model_id": "8ca2fbcf27dc43569580e4fe9b83ca38",
       "version_major": 2,
       "version_minor": 0
      },
      "text/plain": [
       "  0%|          | 0/9 [00:00<?, ?it/s]"
      ]
     },
     "metadata": {},
     "output_type": "display_data"
    },
    {
     "name": "stdout",
     "output_type": "stream",
     "text": [
      "List of 90,027 items will be split in 10 bulks of size 10,000\n"
     ]
    },
    {
     "data": {
      "application/vnd.jupyter.widget-view+json": {
       "model_id": "61b722700ce645e6acdf38028bfe2a02",
       "version_major": 2,
       "version_minor": 0
      },
      "text/plain": [
       "  0%|          | 0/10 [00:00<?, ?it/s]"
      ]
     },
     "metadata": {},
     "output_type": "display_data"
    },
    {
     "name": "stdout",
     "output_type": "stream",
     "text": [
      "List of 47,224 items will be split in 5 bulks of size 10,000\n"
     ]
    },
    {
     "data": {
      "application/vnd.jupyter.widget-view+json": {
       "model_id": "93f74297e4e64308807496cd8b7c48c7",
       "version_major": 2,
       "version_minor": 0
      },
      "text/plain": [
       "  0%|          | 0/5 [00:00<?, ?it/s]"
      ]
     },
     "metadata": {},
     "output_type": "display_data"
    },
    {
     "name": "stdout",
     "output_type": "stream",
     "text": [
      "List of 75,339 items will be split in 8 bulks of size 10,000\n"
     ]
    },
    {
     "data": {
      "application/vnd.jupyter.widget-view+json": {
       "model_id": "f2ede1ad91aa4507bb8fa1cb421ba5d2",
       "version_major": 2,
       "version_minor": 0
      },
      "text/plain": [
       "  0%|          | 0/8 [00:00<?, ?it/s]"
      ]
     },
     "metadata": {},
     "output_type": "display_data"
    },
    {
     "name": "stdout",
     "output_type": "stream",
     "text": [
      "List of 62,895 items will be split in 7 bulks of size 10,000\n"
     ]
    },
    {
     "data": {
      "application/vnd.jupyter.widget-view+json": {
       "model_id": "0884bfb0c69c43c79dd7312bfeaa41dc",
       "version_major": 2,
       "version_minor": 0
      },
      "text/plain": [
       "  0%|          | 0/7 [00:00<?, ?it/s]"
      ]
     },
     "metadata": {},
     "output_type": "display_data"
    },
    {
     "name": "stdout",
     "output_type": "stream",
     "text": [
      "List of 41,636 items will be split in 5 bulks of size 10,000\n"
     ]
    },
    {
     "data": {
      "application/vnd.jupyter.widget-view+json": {
       "model_id": "6bab01b1c5b54805981ef43e732c2b33",
       "version_major": 2,
       "version_minor": 0
      },
      "text/plain": [
       "  0%|          | 0/5 [00:00<?, ?it/s]"
      ]
     },
     "metadata": {},
     "output_type": "display_data"
    },
    {
     "name": "stdout",
     "output_type": "stream",
     "text": [
      "List of 41,088 items will be split in 5 bulks of size 10,000\n"
     ]
    },
    {
     "data": {
      "application/vnd.jupyter.widget-view+json": {
       "model_id": "76a238c7bd58450d911d54a4d7b43bc4",
       "version_major": 2,
       "version_minor": 0
      },
      "text/plain": [
       "  0%|          | 0/5 [00:00<?, ?it/s]"
      ]
     },
     "metadata": {},
     "output_type": "display_data"
    },
    {
     "name": "stdout",
     "output_type": "stream",
     "text": [
      "List of 95,369 items will be split in 10 bulks of size 10,000\n"
     ]
    },
    {
     "data": {
      "application/vnd.jupyter.widget-view+json": {
       "model_id": "2645d18012cb448ba084e55a08990a91",
       "version_major": 2,
       "version_minor": 0
      },
      "text/plain": [
       "  0%|          | 0/10 [00:00<?, ?it/s]"
      ]
     },
     "metadata": {},
     "output_type": "display_data"
    },
    {
     "name": "stdout",
     "output_type": "stream",
     "text": [
      "List of 97,360 items will be split in 10 bulks of size 10,000\n"
     ]
    },
    {
     "data": {
      "application/vnd.jupyter.widget-view+json": {
       "model_id": "9dd80a8508344f0aa81be7249841f4c6",
       "version_major": 2,
       "version_minor": 0
      },
      "text/plain": [
       "  0%|          | 0/10 [00:00<?, ?it/s]"
      ]
     },
     "metadata": {},
     "output_type": "display_data"
    },
    {
     "name": "stdout",
     "output_type": "stream",
     "text": [
      "List of 95,970 items will be split in 10 bulks of size 10,000\n"
     ]
    },
    {
     "data": {
      "application/vnd.jupyter.widget-view+json": {
       "model_id": "1bd77d179aab46ceabc82cf6d90de190",
       "version_major": 2,
       "version_minor": 0
      },
      "text/plain": [
       "  0%|          | 0/10 [00:00<?, ?it/s]"
      ]
     },
     "metadata": {},
     "output_type": "display_data"
    },
    {
     "name": "stdout",
     "output_type": "stream",
     "text": [
      "List of 86,169 items will be split in 9 bulks of size 10,000\n"
     ]
    },
    {
     "data": {
      "application/vnd.jupyter.widget-view+json": {
       "model_id": "170ea5cee82b427391c02723decf6977",
       "version_major": 2,
       "version_minor": 0
      },
      "text/plain": [
       "  0%|          | 0/9 [00:00<?, ?it/s]"
      ]
     },
     "metadata": {},
     "output_type": "display_data"
    },
    {
     "name": "stdout",
     "output_type": "stream",
     "text": [
      "List of 77,876 items will be split in 8 bulks of size 10,000\n"
     ]
    },
    {
     "data": {
      "application/vnd.jupyter.widget-view+json": {
       "model_id": "8c0d414aa43b4795a66888f0bac1bc7a",
       "version_major": 2,
       "version_minor": 0
      },
      "text/plain": [
       "  0%|          | 0/8 [00:00<?, ?it/s]"
      ]
     },
     "metadata": {},
     "output_type": "display_data"
    },
    {
     "name": "stdout",
     "output_type": "stream",
     "text": [
      "List of 42,180 items will be split in 5 bulks of size 10,000\n"
     ]
    },
    {
     "data": {
      "application/vnd.jupyter.widget-view+json": {
       "model_id": "f9c52cd5dd754f75b79b6b267a015288",
       "version_major": 2,
       "version_minor": 0
      },
      "text/plain": [
       "  0%|          | 0/5 [00:00<?, ?it/s]"
      ]
     },
     "metadata": {},
     "output_type": "display_data"
    },
    {
     "name": "stdout",
     "output_type": "stream",
     "text": [
      "List of 37,709 items will be split in 4 bulks of size 10,000\n"
     ]
    },
    {
     "data": {
      "application/vnd.jupyter.widget-view+json": {
       "model_id": "572a5380a14547179ff30385efbcbc0f",
       "version_major": 2,
       "version_minor": 0
      },
      "text/plain": [
       "  0%|          | 0/4 [00:00<?, ?it/s]"
      ]
     },
     "metadata": {},
     "output_type": "display_data"
    },
    {
     "name": "stdout",
     "output_type": "stream",
     "text": [
      "List of 89,835 items will be split in 9 bulks of size 10,000\n"
     ]
    },
    {
     "data": {
      "application/vnd.jupyter.widget-view+json": {
       "model_id": "4e4b20c213734c5890a5e92e4d4c0b96",
       "version_major": 2,
       "version_minor": 0
      },
      "text/plain": [
       "  0%|          | 0/9 [00:00<?, ?it/s]"
      ]
     },
     "metadata": {},
     "output_type": "display_data"
    },
    {
     "name": "stdout",
     "output_type": "stream",
     "text": [
      "List of 91,431 items will be split in 10 bulks of size 10,000\n"
     ]
    },
    {
     "data": {
      "application/vnd.jupyter.widget-view+json": {
       "model_id": "5a858c3190b742af9054976b729e470e",
       "version_major": 2,
       "version_minor": 0
      },
      "text/plain": [
       "  0%|          | 0/10 [00:00<?, ?it/s]"
      ]
     },
     "metadata": {},
     "output_type": "display_data"
    },
    {
     "name": "stdout",
     "output_type": "stream",
     "text": [
      "List of 93,025 items will be split in 10 bulks of size 10,000\n"
     ]
    },
    {
     "data": {
      "application/vnd.jupyter.widget-view+json": {
       "model_id": "f19fb82f9e8f41cfa9c46b0884317900",
       "version_major": 2,
       "version_minor": 0
      },
      "text/plain": [
       "  0%|          | 0/10 [00:00<?, ?it/s]"
      ]
     },
     "metadata": {},
     "output_type": "display_data"
    },
    {
     "name": "stdout",
     "output_type": "stream",
     "text": [
      "List of 73,698 items will be split in 8 bulks of size 10,000\n"
     ]
    },
    {
     "data": {
      "application/vnd.jupyter.widget-view+json": {
       "model_id": "8a72a35e0d6f4164b0236ddbc1a02892",
       "version_major": 2,
       "version_minor": 0
      },
      "text/plain": [
       "  0%|          | 0/8 [00:00<?, ?it/s]"
      ]
     },
     "metadata": {},
     "output_type": "display_data"
    },
    {
     "name": "stdout",
     "output_type": "stream",
     "text": [
      "List of 85,631 items will be split in 9 bulks of size 10,000\n"
     ]
    },
    {
     "data": {
      "application/vnd.jupyter.widget-view+json": {
       "model_id": "dc2f38bc5c014467ac4d7af5d8d0b125",
       "version_major": 2,
       "version_minor": 0
      },
      "text/plain": [
       "  0%|          | 0/9 [00:00<?, ?it/s]"
      ]
     },
     "metadata": {},
     "output_type": "display_data"
    },
    {
     "name": "stdout",
     "output_type": "stream",
     "text": [
      "List of 42,218 items will be split in 5 bulks of size 10,000\n"
     ]
    },
    {
     "data": {
      "application/vnd.jupyter.widget-view+json": {
       "model_id": "708727c20b0c4779b298fd40b3bd8225",
       "version_major": 2,
       "version_minor": 0
      },
      "text/plain": [
       "  0%|          | 0/5 [00:00<?, ?it/s]"
      ]
     },
     "metadata": {},
     "output_type": "display_data"
    },
    {
     "name": "stdout",
     "output_type": "stream",
     "text": [
      "List of 44,938 items will be split in 5 bulks of size 10,000\n"
     ]
    },
    {
     "data": {
      "application/vnd.jupyter.widget-view+json": {
       "model_id": "4ddb21896db64db7be55de5887ed1296",
       "version_major": 2,
       "version_minor": 0
      },
      "text/plain": [
       "  0%|          | 0/5 [00:00<?, ?it/s]"
      ]
     },
     "metadata": {},
     "output_type": "display_data"
    },
    {
     "name": "stdout",
     "output_type": "stream",
     "text": [
      "List of 85,074 items will be split in 9 bulks of size 10,000\n"
     ]
    },
    {
     "data": {
      "application/vnd.jupyter.widget-view+json": {
       "model_id": "0ec1781aeb6848319a1f594829a2bbf2",
       "version_major": 2,
       "version_minor": 0
      },
      "text/plain": [
       "  0%|          | 0/9 [00:00<?, ?it/s]"
      ]
     },
     "metadata": {},
     "output_type": "display_data"
    },
    {
     "name": "stdout",
     "output_type": "stream",
     "text": [
      "List of 85,581 items will be split in 9 bulks of size 10,000\n"
     ]
    },
    {
     "data": {
      "application/vnd.jupyter.widget-view+json": {
       "model_id": "bdf60b998cdd4bafa449a85204d8319a",
       "version_major": 2,
       "version_minor": 0
      },
      "text/plain": [
       "  0%|          | 0/9 [00:00<?, ?it/s]"
      ]
     },
     "metadata": {},
     "output_type": "display_data"
    }
   ],
   "source": [
    "enrich_by_date(\n",
    "  aips.create_conn_db_catho(aips.get_secret(\"MYSQL_CATHO_HOST_WAREHOUSE\")), \n",
    "  enrich_job_organic_logged_searches_daily, \n",
    "  S3_PATH+\"python-test/raw/job-organic-logged-searches/\", # raw\n",
    "  S3_PATH+\"python-test/enriched/job-organic-logged-searches/\",\n",
    "  target_dates,\n",
    "  overwrite=True,\n",
    "  n_threads=5\n",
    ")"
   ]
  },
  {
   "cell_type": "code",
   "execution_count": 144,
   "id": "08297200-31e2-48a6-be78-14fc452ef243",
   "metadata": {
    "tags": []
   },
   "outputs": [
    {
     "name": "stdout",
     "output_type": "stream",
     "text": [
      "Overwriting data...\n"
     ]
    },
    {
     "data": {
      "application/vnd.jupyter.widget-view+json": {
       "model_id": "757e51f586dc4086afe5ab03383f4065",
       "version_major": 2,
       "version_minor": 0
      },
      "text/plain": [
       "  0%|          | 0/31 [00:00<?, ?it/s]"
      ]
     },
     "metadata": {},
     "output_type": "display_data"
    }
   ],
   "source": [
    "enrich_by_date(\n",
    "  aips.create_conn_db_catho(aips.get_secret(\"MYSQL_CATHO_HOST_WAREHOUSE\")), \n",
    "  enrich_cv_organic_logged_searches_daily, \n",
    "  S3_PATH+\"python-test/raw/cv-organic-logged-searches/\", # raw\n",
    "  S3_PATH+\"python-test/enriched/cv-organic-logged-searches/\",\n",
    "  target_dates,\n",
    "  overwrite=True,\n",
    "  n_threads=5\n",
    ")"
   ]
  },
  {
   "cell_type": "code",
   "execution_count": null,
   "id": "ef97cd32-3bf2-46ca-baa3-2a9b63741355",
   "metadata": {},
   "outputs": [],
   "source": []
  },
  {
   "cell_type": "code",
   "execution_count": null,
   "id": "38b5f2c1-1dee-4c55-83ec-b050c48f2d63",
   "metadata": {},
   "outputs": [],
   "source": []
  },
  {
   "cell_type": "code",
   "execution_count": null,
   "id": "af3d1d56-fd11-404c-93a7-845629855486",
   "metadata": {},
   "outputs": [],
   "source": []
  },
  {
   "cell_type": "code",
   "execution_count": null,
   "id": "96cc8c32-aec2-4c70-8917-7bb0d8bc3618",
   "metadata": {},
   "outputs": [],
   "source": []
  }
 ],
 "metadata": {
  "kernelspec": {
   "display_name": "Python 3 (ipykernel)",
   "language": "python",
   "name": "python3"
  },
  "language_info": {
   "codemirror_mode": {
    "name": "ipython",
    "version": 3
   },
   "file_extension": ".py",
   "mimetype": "text/x-python",
   "name": "python",
   "nbconvert_exporter": "python",
   "pygments_lexer": "ipython3",
   "version": "3.11.7"
  }
 },
 "nbformat": 4,
 "nbformat_minor": 5
}
