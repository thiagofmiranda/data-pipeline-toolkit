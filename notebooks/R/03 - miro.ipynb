{
 "cells": [
  {
   "cell_type": "markdown",
   "id": "9b5c551b-50c8-4020-977d-28f26cd609c4",
   "metadata": {},
   "source": [
    "## <span style=\"color:purple\">**Configurações iniciais**</span>"
   ]
  },
  {
   "cell_type": "code",
   "execution_count": 1,
   "id": "f84e466c-5773-4edd-9c68-bdd5fc39647a",
   "metadata": {},
   "outputs": [
    {
     "name": "stderr",
     "output_type": "stream",
     "text": [
      "Loading required package: pacman\n",
      "\n"
     ]
    }
   ],
   "source": [
    "source(\"R/settings.R\")"
   ]
  },
  {
   "cell_type": "code",
   "execution_count": 2,
   "id": "c31ee88c-7e5b-42ea-b854-f4770e42f6b8",
   "metadata": {},
   "outputs": [
    {
     "name": "stdin",
     "output_type": "stream",
     "text": [
      "MIRO BEARER TOKEN: ········\n"
     ]
    }
   ],
   "source": [
    "askMiroToken()"
   ]
  },
  {
   "cell_type": "code",
   "execution_count": 3,
   "id": "ac6fc834-e41f-40f1-ad63-afaa638c26bd",
   "metadata": {},
   "outputs": [
    {
     "name": "stderr",
     "output_type": "stream",
     "text": [
      "Miro link: https://miro.com/app/board/uXjVKYeG_Tc=\n",
      "\n"
     ]
    }
   ],
   "source": [
    "# Create SotM board\n",
    "board <- createBoard(name = \"Estória do Mês 24/03\", projectId = \"3458764553591470372\")\n",
    "\n",
    "S3_IMG_PATH <- \"s3://ai-analytics-sotq-framework/catho/new_img/\""
   ]
  },
  {
   "cell_type": "markdown",
   "id": "dbc1366c-ae2f-4cdb-9733-31ff3f01cef5",
   "metadata": {},
   "source": [
    "## <span style=\"color:purple\">**Criação de Slides**</span>"
   ]
  },
  {
   "cell_type": "markdown",
   "id": "83cebf64-a5fd-4b41-b9aa-424360ce4764",
   "metadata": {},
   "source": [
    "### <span style=\"color:purple\">**Capa**</span>"
   ]
  },
  {
   "cell_type": "code",
   "execution_count": 4,
   "id": "6303525d-2cd7-4246-9a33-0c7afc11424a",
   "metadata": {},
   "outputs": [],
   "source": [
    "# ------------------------------ Capa  ------------------------------\n",
    "positionX <- 0\n",
    "positionY <- 0\n",
    "createCathoCover(boardId = board,title = \"Estória do Mês\",subtitle = \"Mar, 2024\",positionX = 0,positionY = 0)"
   ]
  },
  {
   "cell_type": "markdown",
   "id": "c60081c9-b78c-48ed-aa22-1d45d70be661",
   "metadata": {},
   "source": [
    "### <span style=\"color:purple\">**Sumário**</span>"
   ]
  },
  {
   "cell_type": "code",
   "execution_count": 5,
   "id": "2b77f24e-11a9-4a75-991f-7e43b6ef044d",
   "metadata": {},
   "outputs": [],
   "source": [
    "# ------------------------------ Sumário  ------------------------------\n",
    "positionX <- 2000\n",
    "positionY <- 0\n",
    "\n",
    "createCathoSlide(boardId = board, title = \"Estória do Mês\",subtitle = \"Sumário Executivo\",frame_title = \"Sumário Executivo\",positionX = positionX,positionY = positionY)\n",
    "fig_sumario <- createPresignedUrl(file = paste0(S3_IMG_PATH,'template/assets/sumario.png'))\n",
    "createImageItem(boardId = board, url = fig_sumario,title = \"\",positionX = positionX+400,positionY = positionY+100,width = 900)\n",
    "createTextItem(boardId = board,content = \"Este relatório mensal tem como objetivo nos ajudar a monitorar os produtos da Catho que utilizam serviços de IA e está organizado em duas seções:\",\n",
    "               fillOpacity = \"0\",fontSize = 45,textAlign = \"left\",positionY = positionY-200,positionX = positionX-80,width=1400)\n",
    "createTextItem(boardId = board,content = \"• CBU<br>     Busca de Vagas<br>     Sugestão de Vagas<br>     Auto-Envio<br>     Sugestão Delivery<br>     Aviso de Vagas<br>     Vagas Similares<br> • HBU<br>     Recrutamento Perfeito<br>     Minhas Vagas<br>     Triagem\",\n",
    "               fillOpacity = \"0\",fontSize = 35,textAlign = \"left\",positionY = positionY+180,positionX = positionX-350,width=800)"
   ]
  },
  {
   "cell_type": "markdown",
   "id": "737b0514-bc51-4b2e-8310-07831fed9a0c",
   "metadata": {},
   "source": [
    "### <span style=\"color:purple\">**Key Takeaways**</span>"
   ]
  },
  {
   "cell_type": "code",
   "execution_count": 6,
   "id": "cb9a0059-945e-4f04-8551-47b9939fd7c9",
   "metadata": {},
   "outputs": [],
   "source": [
    "# ------------------------------ Key Takeaways  ------------------------------\n",
    "positionX <- 4000\n",
    "positionY <- 0\n",
    "createCathoSlide(boardId = board, title = \"Estória do Mês\",subtitle = \"Key Takeaways\",frame_title = \"Key Takeaways\",positionX = positionX,positionY = positionY)\n",
    "fig_keytakeaways    <- createPresignedUrl(file = paste0(S3_IMG_PATH,'template/assets/keytakeaways.png'))\n",
    "createImageItem(boardId = board, url = fig_keytakeaways,title = \"\",positionX = positionX+400,positionY = positionY+100,width = 700)\n",
    "createTextItem(boardId = board,content = \"&#8226  XXXXXXXXXXXXXXXXXXXXXXXXXXX<br>&#8226  XXXXXXXXXXXXXXXXXXXXXXXXXXX<br>&#8226  XXXXXXXXXXXXXXXXX\",\n",
    "               fillOpacity = \"0\",fontSize = 45,textAlign = \"left\",positionY = positionY-50,positionX = positionX-350,width=800)"
   ]
  },
  {
   "cell_type": "markdown",
   "id": "bb2e2b89-0f96-4c6f-9fba-ccc0c44eada2",
   "metadata": {},
   "source": [
    "### <span style=\"color:purple\">**CBU**</span>"
   ]
  },
  {
   "cell_type": "code",
   "execution_count": 7,
   "id": "be110ea0-99cc-42f3-b97f-af46a71b4582",
   "metadata": {},
   "outputs": [],
   "source": [
    "# ------------------------------ CBU  ------------------------------\n",
    "positionX <- 11000\n",
    "positionY <- 0\n",
    "createCathoSlide(boardId = board, title = \"Estória do Mês\",subtitle = \"CBU\",frame_title = \"CBU\",positionX = positionX,positionY = positionY)\n",
    "fig_cbu <- createPresignedUrl(file = paste0(S3_IMG_PATH,\"template/assets/cbu.png\"))\n",
    "createImageItem(boardId = board, url = fig_cbu,title = \"\",positionX = positionX+400,positionY = positionY+100,width = 900)\n",
    "createTextItem(boardId = board,content = boldText(\"CBU\"),color = \"#00249F\",\n",
    "               fillOpacity = \"0\",fontSize = 145,textAlign = \"left\",positionY = positionY-150,positionX = positionX-300,width=1000)\n",
    "createTextItem(boardId = board,content = \"&#8226  Busca de Vagas<br>&#8226  Sugestão de Vagas<br>&#8226  Sugestão Delivery<br>&#8226  Aviso de Vagas <br>&#8226  Vagas Similares <br>&#8226  Auto-Envio\",\n",
    "               fillOpacity = \"0\",fontSize = 50,textAlign = \"left\",positionY = positionY+150,positionX = positionX-350,width=800)"
   ]
  },
  {
   "cell_type": "markdown",
   "id": "a4fa0a24-318b-42ca-ade4-5d2176de0052",
   "metadata": {},
   "source": [
    "### <span style=\"color:purple\">**Busca de Vagas**</span>"
   ]
  },
  {
   "cell_type": "code",
   "execution_count": 8,
   "id": "2f26e7ef-b3fc-493f-8457-5d1452fcc2a2",
   "metadata": {},
   "outputs": [],
   "source": [
    "# ------------------------- Busca de Vagas -------------------------\n",
    "positionX <- 6000\n",
    "positionY <- 1200\n",
    "createCathoSlide(boardId = board, title = \"Estória do Mês\",subtitle = \"Busca de Vagas\",frame_title = \"Busca de Vagas\",positionX = positionX,positionY = positionY)\n",
    "createTextItem(boardId = board,content = boldText(\"Busca de Vagas\"),fontSize = 150,width = 750,positionX = positionX-500,positionY = positionY,color = \"#00249F\", fontFamily = \"open_sans\")\n",
    "fig_buscadevagas <- createPresignedUrl(file = paste0(S3_IMG_PATH,\"template/assets/busca-de-vagas.png\"))\n",
    "createImageItem(boardId = board, url = fig_buscadevagas,title = \"\",positionX = positionX+400,positionY = positionY+100,width = 900)\n",
    "\n",
    "# Busca de Vagas /  Applies\n",
    "positionY <- positionY+1200\n",
    "createCathoSlide(boardId = board, title = \"Estória do Mês\",subtitle = \"Applies\",frame_title = \"Busca de Vagas / Applies\",positionX = positionX,positionY = positionY)\n",
    "plot <- createPresignedUrl(file = paste0(S3_IMG_PATH,\"graphics/applies/volume/\\\"Busca de Vagas(volume)\\\".png\"))\n",
    "createImageItem(boardId = board, url = plot,title = \"\",positionX = positionX,positionY = positionY+50,width = 1600)\n",
    "\n",
    "# Busca de Vagas /  Contatos\n",
    "positionY <- positionY+1200\n",
    "createCathoSlide(boardId = board, title = \"Estória do Mês\",subtitle = \"Contatos\",frame_title = \"Busca de Vagas / Contatos\",positionX = positionX,positionY = positionY)\n",
    "plot <- createPresignedUrl(file = paste0(S3_IMG_PATH,\"graphics/contacts-applies/volume/\\\"Busca de Vagas(volume)\\\".png\"))\n",
    "createImageItem(boardId = board, url = plot,title = \"\",positionX = positionX,positionY = positionY+50,width = 1600)\n",
    "\n",
    "# Busca de Vagas /  Applies Qualificados / Share\n",
    "positionY <- positionY+1200\n",
    "createCathoSlide(boardId = board, title = \"Estória do Mês\",subtitle = \"Share de Applies Qualificados\",frame_title = \"Busca de Vagas /  Applies Qualificados / Share\",positionX = positionX,positionY = positionY)\n",
    "plot <- createPresignedUrl(file = paste0(S3_IMG_PATH,\"graphics/applies/qualified/\\\"Busca de Vagas(share)\\\".png\"))\n",
    "createImageItem(boardId = board, url = plot,title = \"\",positionX = positionX,positionY = positionY+50,width = 1600)\n",
    "\n",
    "# Busca de Vagas / Applies Diários\n",
    "positionY <- positionY+1200\n",
    "createCathoSlide(boardId = board, title = \"Estória do Mês\",subtitle = \"Applies Diários\",frame_title = \"Busca de Vagas / Applies Diários\",positionX = positionX,positionY = positionY)\n",
    "plot <- createPresignedUrl(file = paste0(S3_IMG_PATH,\"graphics/applies/daily/\\\"Busca de Vagas(volume)\\\".png\"))\n",
    "createImageItem(boardId = board, url = plot,title = \"\",positionX = positionX,positionY = positionY+50,width = 1600)\n",
    "\n",
    "# Busca de Vagas / Contatos Diários\n",
    "positionY <- positionY+1200\n",
    "createCathoSlide(boardId = board, title = \"Estória do Mês\",subtitle = \"Contatos Diários\",frame_title = \"Busca de Vagas / Contatos Diários\",positionX = positionX,positionY = positionY)\n",
    "plot <- createPresignedUrl(file = paste0(S3_IMG_PATH,\"graphics/contacts-applies/daily/\\\"Busca de Vagas(volume)\\\".png\"))\n",
    "createImageItem(boardId = board, url = plot,title = \"\",positionX = positionX,positionY = positionY+50,width = 1600)\n",
    "\n",
    "# Busca de Vagas /  Logs\n",
    "positionY <- positionY+1200\n",
    "createCathoSlide(boardId = board, title = \"Estória do Mês\",subtitle = \"Logs\",frame_title = \"Busca de Vagas / Logs\",positionX = positionX,positionY = positionY)\n",
    "plot <- createPresignedUrl(file = paste0(S3_IMG_PATH,\"graphics/logs/volume/\\\"Busca de Vagas(volume)\\\".png\"))\n",
    "createImageItem(boardId = board, url = plot,title = \"\",positionX = positionX,positionY = positionY+50,width = 1600)\n",
    "\n",
    "# Busca de Vagas / Top Queries\n",
    "positionY <- positionY+1200\n",
    "createCathoSlide(boardId = board, title = \"Estória do Mês\",subtitle = \"Top Queries\",frame_title = \"Busca de Vagas / Top Queries\",positionX = positionX,positionY = positionY)\n",
    "plot <- createPresignedUrl(file = paste0(S3_IMG_PATH,\"graphics/top-keywords/volume/\\\"Busca de Vagas(volume)\\\".png\"))\n",
    "createImageItem(boardId = board, url = plot,title = \"\",positionX = positionX,positionY = positionY+50,width = 1600)"
   ]
  },
  {
   "cell_type": "markdown",
   "id": "643e3626-1b77-42de-bdd5-b25336221f3f",
   "metadata": {},
   "source": [
    "### <span style=\"color:purple\">**Sugestão de Vagas**</span>"
   ]
  },
  {
   "cell_type": "code",
   "execution_count": 9,
   "id": "5acbe35c-992d-431d-b45a-c9818ed5a9a3",
   "metadata": {},
   "outputs": [],
   "source": [
    "# ------------------------- Sugestão de Vagas -------------------------\n",
    "positionX <- 8000\n",
    "positionY <- 1200\n",
    "createCathoSlide(boardId = board, title = \"Estória do Mês\",subtitle = \"Sugestão de Vagas\",frame_title = \"Sugestão de Vagas\",positionX = positionX,positionY = positionY)\n",
    "createTextItem(boardId = board,content = boldText(\"Sugestão de Vagas\"),fontSize = 150,width = 750,positionX = positionX-500,positionY = positionY,color = \"#00249F\", fontFamily = \"open_sans\")\n",
    "fig_sugestaodevagas <- createPresignedUrl(file = paste0(S3_IMG_PATH,\"template/assets/sugestao-de-vagas.png\"))\n",
    "createImageItem(boardId = board, url = fig_sugestaodevagas,title = \"\",positionX = positionX+400,positionY = positionY,width = 900)\n",
    "\n",
    "# Sugestão de Vagas /  Applies\n",
    "positionY <- positionY+1200\n",
    "createCathoSlide(boardId = board, title = \"Estória do Mês\",subtitle = \"Applies\",frame_title = \"Sugestão de Vagas / Applies\",positionX = positionX,positionY = positionY)\n",
    "plot <- createPresignedUrl(file = paste0(S3_IMG_PATH,\"graphics/applies/volume/\\\"Sugestão de Vagas(volume)\\\".png\"))\n",
    "createImageItem(boardId = board, url = plot,title = \"\",positionX = positionX,positionY = positionY+50,width = 1600)\n",
    "\n",
    "# Sugestão de Vagas /  Contatos\n",
    "positionY <- positionY+1200\n",
    "createCathoSlide(boardId = board, title = \"Estória do Mês\",subtitle = \"Contatos\",frame_title = \"Sugestão de Vagas / Contatos\",positionX = positionX,positionY = positionY)\n",
    "plot <- createPresignedUrl(file = paste0(S3_IMG_PATH,\"graphics/contacts-applies/volume/\\\"Sugestão de Vagas(volume)\\\".png\"))\n",
    "createImageItem(boardId = board, url = plot,title = \"\",positionX = positionX,positionY = positionY+50,width = 1600)\n",
    "\n",
    "# Sugestão de Vagas /  Applies Qualificados / Share\n",
    "positionY <- positionY+1200\n",
    "createCathoSlide(boardId = board, title = \"Estória do Mês\",subtitle = \"Share de Applies Qualificados\",frame_title = \"Sugestão de Vagas /  Applies Qualificados / Share\",positionX = positionX,positionY = positionY)\n",
    "plot <- createPresignedUrl(file = paste0(S3_IMG_PATH,\"graphics/applies/qualified/\\\"Sugestão de Vagas(share)\\\".png\"))\n",
    "createImageItem(boardId = board, url = plot,title = \"\",positionX = positionX,positionY = positionY+50,width = 1600)\n",
    "\n",
    "# Sugestão de Vagas / Applies Diários\n",
    "positionY <- positionY+1200\n",
    "createCathoSlide(boardId = board, title = \"Estória do Mês\",subtitle = \"Applies Diários\",frame_title = \"Sugestão de Vagas / Applies Diários\",positionX = positionX,positionY = positionY)\n",
    "plot <- createPresignedUrl(file = paste0(S3_IMG_PATH,\"graphics/applies/daily/\\\"Sugestão de Vagas(volume)\\\".png\"))\n",
    "createImageItem(boardId = board, url = plot,title = \"\",positionX = positionX,positionY = positionY+50,width = 1600)\n",
    "\n",
    "# Sugestão de Vagas / Contatos Diários\n",
    "positionY <- positionY+1200\n",
    "createCathoSlide(boardId = board, title = \"Estória do Mês\",subtitle = \"Contatos Diários\",frame_title = \"Sugestão de Vagas / Contatos Diários\",positionX = positionX,positionY = positionY)\n",
    "plot <- createPresignedUrl(file = paste0(S3_IMG_PATH,\"graphics/contacts-applies/daily/\\\"Sugestão de Vagas(volume)\\\".png\"))\n",
    "createImageItem(boardId = board, url = plot,title = \"\",positionX = positionX,positionY = positionY+50,width = 1600)\n",
    "\n",
    "# Sugestão de Vagas /  Logs\n",
    "positionY <- positionY+1200\n",
    "createCathoSlide(boardId = board, title = \"Estória do Mês\",subtitle = \"Logs\",frame_title = \"Sugestão de Vagas / Logs\",positionX = positionX,positionY = positionY)\n",
    "plot <- createPresignedUrl(file = paste0(S3_IMG_PATH,\"graphics/logs/volume/\\\"Sugestão de Vagas(volume)\\\".png\"))\n",
    "createImageItem(boardId = board, url = plot,title = \"\",positionX = positionX,positionY = positionY+50,width = 1600)"
   ]
  },
  {
   "cell_type": "markdown",
   "id": "29605143-9387-4d9e-b214-e26ed78dd193",
   "metadata": {},
   "source": [
    "### <span style=\"color:purple\">**Auto-Envio**</span>"
   ]
  },
  {
   "cell_type": "code",
   "execution_count": 10,
   "id": "5153c5b1-a3bf-4217-80a5-f09241906576",
   "metadata": {},
   "outputs": [],
   "source": [
    "# ------------------------- Auto-Envio -------------------------\n",
    "positionX <- 16000\n",
    "positionY <- 1200\n",
    "createCathoSlide(boardId = board, title = \"Estória do Mês\",subtitle = \"Auto Envio\",frame_title = \"Auto-Envio\",positionX = positionX,positionY = positionY)\n",
    "createTextItem(boardId = board,content = boldText(\"Auto Envio\"),fontSize = 150,width = 750,positionX = positionX-500,positionY = positionY,color = \"#00249F\", fontFamily = \"open_sans\")\n",
    "fig_autoapply <- createPresignedUrl(file = paste0(S3_IMG_PATH,\"template/assets/auto-apply.png\"))\n",
    "createImageItem(boardId = board, url = fig_autoapply,title = \"\",positionX = positionX+350,positionY = positionY+50,width = 1000)\n",
    "\n",
    "\n",
    "# Auto-Apply /  Applies\n",
    "positionY <- positionY+1200\n",
    "createCathoSlide(boardId = board, title = \"Estória do Mês\",subtitle = \"Applies\",frame_title = \"Auto-Envio / Applies\",positionX = positionX,positionY = positionY)\n",
    "plot <- createPresignedUrl(file = paste0(S3_IMG_PATH,\"graphics/applies/volume/\\\"Auto-Apply(volume)\\\".png\"))\n",
    "createImageItem(boardId = board, url = plot,title = \"\",positionX = positionX,positionY = positionY+50,width = 1600)\n",
    "\n",
    "# Auto-Apply /  Contatos\n",
    "positionY <- positionY+1200\n",
    "createCathoSlide(boardId = board, title = \"Estória do Mês\",subtitle = \"Contatos\",frame_title = \"Auto-Envio / Contatos\",positionX = positionX,positionY = positionY)\n",
    "plot <- createPresignedUrl(file = paste0(S3_IMG_PATH,\"graphics/contacts-applies/volume/\\\"Auto-Apply(volume)\\\".png\"))\n",
    "createImageItem(boardId = board, url = plot,title = \"\",positionX = positionX,positionY = positionY+50,width = 1600)\n",
    "\n",
    "# Auto-Apply /  Applies Qualificados / Share\n",
    "positionY <- positionY+1200\n",
    "createCathoSlide(boardId = board, title = \"Estória do Mês\",subtitle = \"Share de Applies Qualificados\",frame_title = \"Auto-Envio /  Applies Qualificados / Share\",positionX = positionX,positionY = positionY)\n",
    "plot <- createPresignedUrl(file = paste0(S3_IMG_PATH,\"graphics/applies/qualified/\\\"Auto-Apply(share)\\\".png\"))\n",
    "createImageItem(boardId = board, url = plot,title = \"\",positionX = positionX,positionY = positionY+50,width = 1600)\n",
    "\n",
    "# Auto-Apply / Applies Diários\n",
    "positionY <- positionY+1200\n",
    "createCathoSlide(boardId = board, title = \"Estória do Mês\",subtitle = \"Applies Diários\",frame_title = \"Auto-Envio / Applies Diários\",positionX = positionX,positionY = positionY)\n",
    "plot <- createPresignedUrl(file = paste0(S3_IMG_PATH,\"graphics/applies/daily/\\\"Auto-Apply(volume)\\\".png\"))\n",
    "createImageItem(boardId = board, url = plot,title = \"\",positionX = positionX,positionY = positionY+50,width = 1600)\n",
    "\n",
    "# Auto-Apply / Contatos Diários\n",
    "positionY <- positionY+1200\n",
    "createCathoSlide(boardId = board, title = \"Estória do Mês\",subtitle = \"Contatos Diários\",frame_title = \"Auto-Envio / Contatos Diários\",positionX = positionX,positionY = positionY)\n",
    "plot <- createPresignedUrl(file = paste0(S3_IMG_PATH,\"graphics/contacts-applies/daily/\\\"Auto-Apply(volume)\\\".png\"))\n",
    "createImageItem(boardId = board, url = plot,title = \"\",positionX = positionX,positionY = positionY+50,width = 1600)\n",
    "\n",
    "# Auto-Apply /  Logs\n",
    "positionY <- positionY+1200\n",
    "createCathoSlide(boardId = board, title = \"Estória do Mês\",subtitle = \"Logs\",frame_title = \"Auto-Envio / Logs\",positionX = positionX,positionY = positionY)\n",
    "plot <- createPresignedUrl(file = paste0(S3_IMG_PATH,\"graphics/logs/volume/\\\"Auto-Apply(volume)\\\".png\"))\n",
    "createImageItem(boardId = board, url = plot,title = \"\",positionX = positionX,positionY = positionY+50,width = 1600)"
   ]
  },
  {
   "cell_type": "markdown",
   "id": "cb9c9592-4def-4295-ba94-66d470c7bfb7",
   "metadata": {},
   "source": [
    "### <span style=\"color:purple\">**Sugestão Delivery**</span>"
   ]
  },
  {
   "cell_type": "code",
   "execution_count": 11,
   "id": "350fc7f1-200d-4527-85d8-49e8aa252f12",
   "metadata": {},
   "outputs": [],
   "source": [
    "# ------------------------- Sugestão Delivery -------------------------\n",
    "positionX <- 10000\n",
    "positionY <- 1200\n",
    "createCathoSlide(boardId = board, title = \"Estória do Mês\",subtitle = \"Sugestão Delivery\",frame_title = \"Sugestão Delivery\",positionX = positionX,positionY = positionY)\n",
    "createTextItem(boardId = board,content = boldText(\"Sugestão Delivery\"),fontSize = 150,width = 750,positionX = positionX-500,positionY = positionY,color = \"#00249F\", fontFamily = \"open_sans\")\n",
    "fig_deliveryativos  <- createPresignedUrl(file = paste0(S3_IMG_PATH,\"template/assets/delivery-ativos.png\"))\n",
    "createImageItem(boardId = board, url = fig_deliveryativos,title = \"\",positionX = positionX+400,positionY = positionY+100,width = 900)\n",
    "\n",
    "# Sugestão Delivery /  Applies\n",
    "positionY <- positionY+1200\n",
    "createCathoSlide(boardId = board, title = \"Estória do Mês\",subtitle = \"Applies\",frame_title = \"Sugestão Delivery / Applies\",positionX = positionX,positionY = positionY)\n",
    "plot <- createPresignedUrl(file = paste0(S3_IMG_PATH,\"graphics/applies/volume/\\\"Sugestão Delivery(volume)\\\".png\"))\n",
    "createImageItem(boardId = board, url = plot,title = \"\",positionX = positionX,positionY = positionY+50,width = 1600)\n",
    "\n",
    "# Sugestão Delivery /  Contatos\n",
    "positionY <- positionY+1200\n",
    "createCathoSlide(boardId = board, title = \"Estória do Mês\",subtitle = \"Contatos\",frame_title = \"Sugestão Delivery / Contatos\",positionX = positionX,positionY = positionY)\n",
    "plot <- createPresignedUrl(file = paste0(S3_IMG_PATH,\"graphics/contacts-applies/volume/\\\"Sugestão Delivery(volume)\\\".png\"))\n",
    "createImageItem(boardId = board, url = plot,title = \"\",positionX = positionX,positionY = positionY+50,width = 1600)\n",
    "\n",
    "# Sugestão Delivery /  Applies Qualificados / Share\n",
    "positionY <- positionY+1200\n",
    "createCathoSlide(boardId = board, title = \"Estória do Mês\",subtitle = \"Share de Applies Qualificados\",frame_title = \"Sugestão Delivery /  Applies Qualificados / Share\",positionX = positionX,positionY = positionY)\n",
    "plot <- createPresignedUrl(file = paste0(S3_IMG_PATH,\"graphics/applies/qualified/\\\"Sugestão Delivery(share)\\\".png\"))\n",
    "createImageItem(boardId = board, url = plot,title = \"\",positionX = positionX,positionY = positionY+50,width = 1600)\n",
    "\n",
    "# Sugestão Delivery / Applies Diários\n",
    "positionY <- positionY+1200\n",
    "createCathoSlide(boardId = board, title = \"Estória do Mês\",subtitle = \"Applies Diários\",frame_title = \"Sugestão Delivery / Applies Diários\",positionX = positionX,positionY = positionY)\n",
    "plot <- createPresignedUrl(file = paste0(S3_IMG_PATH,\"graphics/applies/daily/\\\"Sugestão Delivery(volume)\\\".png\"))\n",
    "createImageItem(boardId = board, url = plot,title = \"\",positionX = positionX,positionY = positionY+50,width = 1600)\n",
    "\n",
    "# Sugestão Delivery / Contatos Diários\n",
    "positionY <- positionY+1200\n",
    "createCathoSlide(boardId = board, title = \"Estória do Mês\",subtitle = \"Contatos Diários\",frame_title = \"Sugestão Delivery / Contatos Diários\",positionX = positionX,positionY = positionY)\n",
    "plot <- createPresignedUrl(file = paste0(S3_IMG_PATH,\"graphics/contacts-applies/daily/\\\"Sugestão Delivery(volume)\\\".png\"))\n",
    "createImageItem(boardId = board, url = plot,title = \"\",positionX = positionX,positionY = positionY+50,width = 1600)\n",
    "\n",
    "# Sugestão Delivery /  Logs\n",
    "positionY <- positionY+1200\n",
    "createCathoSlide(boardId = board, title = \"Estória do Mês\",subtitle = \"Logs\",frame_title = \"Sugestão Delivery / Logs\",positionX = positionX,positionY = positionY)\n",
    "plot <- createPresignedUrl(file = paste0(S3_IMG_PATH,\"graphics/logs/volume/\\\"Sugestão Delivery(volume)\\\".png\"))\n",
    "createImageItem(boardId = board, url = plot,title = \"\",positionX = positionX,positionY = positionY+50,width = 1600)"
   ]
  },
  {
   "cell_type": "markdown",
   "id": "64f85c5d-dca8-4e17-b48a-4ecdc00c65fc",
   "metadata": {},
   "source": [
    "### <span style=\"color:purple\">**Aviso de Vagas**</span>"
   ]
  },
  {
   "cell_type": "code",
   "execution_count": 12,
   "id": "deeb6bb4-4c52-4bac-9f90-81e130a9fc31",
   "metadata": {},
   "outputs": [],
   "source": [
    "# ------------------------- Aviso de Vagas -------------------------\n",
    "positionX <- 12000\n",
    "positionY <- 1200\n",
    "createCathoSlide(boardId = board, title = \"Estória do Mês\",subtitle = \"Aviso de Vagas\",frame_title = \"Aviso de Vagas\",positionX = positionX,positionY = positionY)\n",
    "createTextItem(boardId = board,content = boldText(\"Aviso de Vagas\"),fontSize = 150,width = 750,positionX = positionX-500,positionY = positionY,color = \"#00249F\", fontFamily = \"open_sans\")\n",
    "fig_avisodevagas    <- createPresignedUrl(file = paste0(S3_IMG_PATH,\"template/assets/aviso-de-vagas.png\"))\n",
    "createImageItem(boardId = board, url = fig_avisodevagas,title = \"\",positionX = positionX+400,positionY = positionY+50,width = 900)\n",
    "\n",
    "# Aviso de Vagas /  Applies\n",
    "positionY <- positionY+1200\n",
    "createCathoSlide(boardId = board, title = \"Estória do Mês\",subtitle = \"Applies\",frame_title = \"Aviso de Vagas / Applies\",positionX = positionX,positionY = positionY)\n",
    "plot <- createPresignedUrl(file = paste0(S3_IMG_PATH,\"graphics/applies/volume/\\\"Aviso de Vagas(volume)\\\".png\"))\n",
    "createImageItem(boardId = board, url = plot,title = \"\",positionX = positionX,positionY = positionY+50,width = 1600)\n",
    "\n",
    "# Aviso de Vagas /  Contatos\n",
    "positionY <- positionY+1200\n",
    "createCathoSlide(boardId = board, title = \"Estória do Mês\",subtitle = \"Contatos\",frame_title = \"Aviso de Vagas / Contatos\",positionX = positionX,positionY = positionY)\n",
    "plot <- createPresignedUrl(file = paste0(S3_IMG_PATH,\"graphics/contacts-applies/volume/\\\"Aviso de Vagas(volume)\\\".png\"))\n",
    "createImageItem(boardId = board, url = plot,title = \"\",positionX = positionX,positionY = positionY+50,width = 1600)\n",
    "\n",
    "# Aviso de Vagas /  Applies Qualificados / Share\n",
    "positionY <- positionY+1200\n",
    "createCathoSlide(boardId = board, title = \"Estória do Mês\",subtitle = \"Share de Applies Qualificados\",frame_title = \"Aviso de Vagas /  Applies Qualificados / Share\",positionX = positionX,positionY = positionY)\n",
    "plot <- createPresignedUrl(file = paste0(S3_IMG_PATH,\"graphics/applies/qualified/\\\"Aviso de Vagas(share)\\\".png\"))\n",
    "createImageItem(boardId = board, url = plot,title = \"\",positionX = positionX,positionY = positionY+50,width = 1600)\n",
    "\n",
    "# Aviso de Vagas / Applies Diários\n",
    "positionY <- positionY+1200\n",
    "createCathoSlide(boardId = board, title = \"Estória do Mês\",subtitle = \"Applies Diários\",frame_title = \"Aviso de Vagas / Applies Diários\",positionX = positionX,positionY = positionY)\n",
    "plot <- createPresignedUrl(file = paste0(S3_IMG_PATH,\"graphics/applies/daily/\\\"Aviso de Vagas(volume)\\\".png\"))\n",
    "createImageItem(boardId = board, url = plot,title = \"\",positionX = positionX,positionY = positionY+50,width = 1600)\n",
    "\n",
    "# Aviso de Vagas / Contatos Diários\n",
    "positionY <- positionY+1200\n",
    "createCathoSlide(boardId = board, title = \"Estória do Mês\",subtitle = \"Contatos Diários\",frame_title = \"Aviso de Vagas / Contatos Diários\",positionX = positionX,positionY = positionY)\n",
    "plot <- createPresignedUrl(file = paste0(S3_IMG_PATH,\"graphics/contacts-applies/daily/\\\"Aviso de Vagas(volume)\\\".png\"))\n",
    "createImageItem(boardId = board, url = plot,title = \"\",positionX = positionX,positionY = positionY+50,width = 1600)\n",
    "\n",
    "# Aviso de Vagas /  Logs\n",
    "positionY <- positionY+1200\n",
    "createCathoSlide(boardId = board, title = \"Estória do Mês\",subtitle = \"Logs\",frame_title = \"Aviso de Vagas / Logs\",positionX = positionX,positionY = positionY)\n",
    "plot <- createPresignedUrl(file = paste0(S3_IMG_PATH,\"graphics/logs/volume/\\\"Aviso de Vagas(volume)\\\".png\"))\n",
    "createImageItem(boardId = board, url = plot,title = \"\",positionX = positionX,positionY = positionY+50,width = 1600)"
   ]
  },
  {
   "cell_type": "markdown",
   "id": "57903f9a-ef62-46ca-956a-968138214632",
   "metadata": {},
   "source": [
    "### <span style=\"color:purple\">**Vagas Similares**</span>"
   ]
  },
  {
   "cell_type": "code",
   "execution_count": 13,
   "id": "5a4b9ecd-1c68-481f-99c1-f8ec216ebea2",
   "metadata": {},
   "outputs": [],
   "source": [
    "# ------------------------- Vagas Similares -------------------------\n",
    "positionX <- 14000\n",
    "positionY <- 1200\n",
    "createCathoSlide(boardId = board, title = \"Estória do Mês\",subtitle = \"Vagas Similares\",frame_title = \"Vagas Similares\",positionX = positionX,positionY = positionY)\n",
    "createTextItem(boardId = board,content = boldText(\"Vagas Similares\"),fontSize = 150,width = 750,positionX = positionX-500,positionY = positionY,color = \"#00249F\", fontFamily = \"open_sans\")\n",
    "fig_vagassimilares  <- createPresignedUrl(file = paste0(S3_IMG_PATH,\"template/assets/vagas-similares.png\"))\n",
    "createImageItem(boardId = board, url = fig_vagassimilares,title = \"\",positionX = positionX+400,positionY = positionY+70,width = 700)\n",
    "\n",
    "\n",
    "# Vagas Similares /  Applies\n",
    "positionY <- positionY+1200\n",
    "createCathoSlide(boardId = board, title = \"Estória do Mês\",subtitle = \"Applies\",frame_title = \"Vagas Similares / Applies\",positionX = positionX,positionY = positionY)\n",
    "plot <- createPresignedUrl(file = paste0(S3_IMG_PATH,\"graphics/applies/volume/\\\"Vagas Similares(volume)\\\".png\"))\n",
    "createImageItem(boardId = board, url = plot,title = \"\",positionX = positionX,positionY = positionY+50,width = 1600)\n",
    "\n",
    "# Vagas Similares /  Contatos\n",
    "positionY <- positionY+1200\n",
    "createCathoSlide(boardId = board, title = \"Estória do Mês\",subtitle = \"Contatos\",frame_title = \"Vagas Similares / Contatos\",positionX = positionX,positionY = positionY)\n",
    "plot <- createPresignedUrl(file = paste0(S3_IMG_PATH,\"graphics/contacts-applies/volume/\\\"Vagas Similares(volume)\\\".png\"))\n",
    "createImageItem(boardId = board, url = plot,title = \"\",positionX = positionX,positionY = positionY+50,width = 1600)\n",
    "\n",
    "# Vagas Similares /  Applies Qualificados / Share\n",
    "positionY <- positionY+1200\n",
    "createCathoSlide(boardId = board, title = \"Estória do Mês\",subtitle = \"Share de Applies Qualificados\",frame_title = \"Vagas Similares /  Applies Qualificados / Share\",positionX = positionX,positionY = positionY)\n",
    "plot <- createPresignedUrl(file = paste0(S3_IMG_PATH,\"graphics/applies/qualified/\\\"Vagas Similares(share)\\\".png\"))\n",
    "createImageItem(boardId = board, url = plot,title = \"\",positionX = positionX,positionY = positionY+50,width = 1600)\n",
    "\n",
    "# Vagas Similares / Applies Diários\n",
    "positionY <- positionY+1200\n",
    "createCathoSlide(boardId = board, title = \"Estória do Mês\",subtitle = \"Applies Diários\",frame_title = \"Vagas Similares / Applies Diários\",positionX = positionX,positionY = positionY)\n",
    "plot <- createPresignedUrl(file = paste0(S3_IMG_PATH,\"graphics/applies/daily/\\\"Vagas Similares(volume)\\\".png\"))\n",
    "createImageItem(boardId = board, url = plot,title = \"\",positionX = positionX,positionY = positionY+50,width = 1600)\n",
    "\n",
    "# Vagas Similares / Contatos Diários\n",
    "positionY <- positionY+1200\n",
    "createCathoSlide(boardId = board, title = \"Estória do Mês\",subtitle = \"Contatos Diários\",frame_title = \"Vagas Similares / Contatos Diários\",positionX = positionX,positionY = positionY)\n",
    "plot <- createPresignedUrl(file = paste0(S3_IMG_PATH,\"graphics/contacts-applies/daily/\\\"Vagas Similares(volume)\\\".png\"))\n",
    "createImageItem(boardId = board, url = plot,title = \"\",positionX = positionX,positionY = positionY+50,width = 1600)\n",
    "\n",
    "# Vagas Similares /  Logs\n",
    "positionY <- positionY+1200\n",
    "createCathoSlide(boardId = board, title = \"Estória do Mês\",subtitle = \"Logs\",frame_title = \"Vagas Similares / Logs\",positionX = positionX,positionY = positionY)\n",
    "plot <- createPresignedUrl(file = paste0(S3_IMG_PATH,\"graphics/logs/volume/\\\"Vagas Similares(volume)\\\".png\"))\n",
    "createImageItem(boardId = board, url = plot,title = \"\",positionX = positionX,positionY = positionY+50,width = 1600)"
   ]
  },
  {
   "cell_type": "markdown",
   "id": "b425a516-cd51-4d6f-818c-fbf2f7c51ec3",
   "metadata": {},
   "source": [
    "### <span style=\"color:purple\">**HBU**</span>"
   ]
  },
  {
   "cell_type": "code",
   "execution_count": 14,
   "id": "ede7ae25-86c4-4573-8d2a-3319f9717d0b",
   "metadata": {},
   "outputs": [],
   "source": [
    "# ------------------------------ HBU  ------------------------------\n",
    "positionX <- 20000\n",
    "positionY <- 0\n",
    "createCathoSlide(boardId = board, title = \"Estória do Mês\",subtitle = \"HBU\",frame_title = \"HBU\",positionX = positionX,positionY = positionY)\n",
    "fig_hbu <- createPresignedUrl(file = paste0(S3_IMG_PATH,\"template/assets/hbu.png\"))\n",
    "createImageItem(boardId = board, url = fig_hbu,title = \"\",positionX = positionX+400,positionY = positionY+50,width = 800)\n",
    "createTextItem(boardId = board,content = boldText(\"HBU\"),color = \"#00249F\",\n",
    "               fillOpacity = \"0\",fontSize = 145,textAlign = \"left\",positionY = positionY-150,positionX = positionX-300,width=1000)\n",
    "createTextItem(boardId = board,content = \"&#8226  Recrutamento Perfeito<br>&#8226  Minhas Vagas<br>&#8226  Triagem\",\n",
    "               fillOpacity = \"0\",fontSize = 50,textAlign = \"left\",positionY = positionY+50,positionX = positionX-350,width=800)"
   ]
  },
  {
   "cell_type": "markdown",
   "id": "176a044d-10fc-46c0-b02e-b62cc13daa12",
   "metadata": {},
   "source": [
    "### <span style=\"color:purple\">**Recrutamento Perfeito**</span>"
   ]
  },
  {
   "cell_type": "code",
   "execution_count": 15,
   "id": "d3ef179b-9d62-48f8-85f8-45d0a9a04b6b",
   "metadata": {},
   "outputs": [],
   "source": [
    "# ------------------------- Recrutamento Perfeito --------------------------\n",
    "positionX <- 18000\n",
    "positionY <- 1200\n",
    "createCathoSlide(boardId = board, title = \"Estória do Mês\",subtitle = \"Recrutamento Perfeito\",frame_title = \"Recrutamento Perfeito\",positionX = positionX,positionY = positionY)\n",
    "createTextItem(boardId = board,content = boldText(\"Recrutamento Perfeito\"),fontSize = 150,width = 1150,positionX = positionX-300,positionY = positionY,color = \"#00249F\", fontFamily = \"open_sans\")\n",
    "fig_buscadecv <- createPresignedUrl(file = paste0(S3_IMG_PATH,\"template/assets/busca-de-cvs.png\"))\n",
    "createImageItem(boardId = board, url = fig_buscadecv,title = \"\",positionX = positionX+600,positionY = positionY+50,width = 500)\n",
    "\n",
    "# Recrutamento Perfeito /  Contatos\n",
    "positionY <- positionY+1200\n",
    "createCathoSlide(boardId = board, title = \"Estória do Mês\",subtitle = \"Contatos\",frame_title = \"Recrutamento Perfeito / Contatos\",positionX = positionX,positionY = positionY)\n",
    "plot <- createPresignedUrl(file = paste0(S3_IMG_PATH,\"graphics/contacts/volume/\\\"Recrutamento Perfeito(volume)\\\".png\"))\n",
    "createImageItem(boardId = board, url = plot,title = \"\",positionX = positionX,positionY = positionY+50,width = 1600)\n",
    "\n",
    "# Recrutamento Perfeito / Contatos Diários\n",
    "positionY <- positionY+1200\n",
    "createCathoSlide(boardId = board, title = \"Estória do Mês\",subtitle = \"Contatos Diários\",frame_title = \"Recrutamento Perfeito / Contatos Diários\",positionX = positionX,positionY = positionY)\n",
    "plot <- createPresignedUrl(file = paste0(S3_IMG_PATH,\"graphics/contacts/daily/\\\"Recrutamento Perfeito(volume)\\\".png\"))\n",
    "createImageItem(boardId = board, url = plot,title = \"\",positionX = positionX,positionY = positionY+50,width = 1600)\n",
    "\n",
    "# Recrutamento Perfeito /  Logs\n",
    "positionY <- positionY+1200\n",
    "createCathoSlide(boardId = board, title = \"Estória do Mês\",subtitle = \"Logs\",frame_title = \"Recrutamento Perfeito / Logs\",positionX = positionX,positionY = positionY)\n",
    "plot <- createPresignedUrl(file = paste0(S3_IMG_PATH,\"graphics/logs/volume/\\\"Recrutamento Perfeito(volume)\\\".png\"))\n",
    "createImageItem(boardId = board, url = plot,title = \"\",positionX = positionX,positionY = positionY+50,width = 1600)\n",
    "\n",
    "# Recrutamento Perfeito / Top Queries\n",
    "positionY <- positionY+1200\n",
    "createCathoSlide(boardId = board, title = \"Estória do Mês\",subtitle = \"Top Queries\",frame_title = \"Recrutamento Perfeito / Top Queries\",positionX = positionX,positionY = positionY)\n",
    "plot <- createPresignedUrl(file = paste0(S3_IMG_PATH,\"graphics/top-keywords/volume/\\\"Recrutamento Perfeito(volume)\\\".png\"))\n",
    "createImageItem(boardId = board, url = plot,title = \"\",positionX = positionX,positionY = positionY+50,width = 1600)"
   ]
  },
  {
   "cell_type": "markdown",
   "id": "fa2b75bc-5d45-43da-8b27-8cc9443350a7",
   "metadata": {},
   "source": [
    "### <span style=\"color:purple\">**Minhas Vagas**</span>"
   ]
  },
  {
   "cell_type": "code",
   "execution_count": 16,
   "id": "45d82179-e136-4b7b-8a56-3fb92d30a2c1",
   "metadata": {},
   "outputs": [],
   "source": [
    "# -------------------------  Minhas Vagas -------------------------\n",
    "positionX <- 20000\n",
    "positionY <- 1200\n",
    "createCathoSlide(boardId = board, title = \"Estória do Mês\",subtitle = \"Minhas Vagas\",frame_title = \"Minhas Vagas\",positionX = positionX,positionY = positionY)\n",
    "createTextItem(boardId = board,content = boldText(\"Minhas Vagas\"),fontSize = 150,width = 750,positionX = positionX-500,positionY = positionY,color = \"#00249F\", fontFamily = \"open_sans\")\n",
    "fig_vagasgratis <- createPresignedUrl(file = paste0(S3_IMG_PATH,\"template/assets/vagas-gratis.png\"))\n",
    "createImageItem(boardId = board, url = fig_vagasgratis,title = \"\",positionX = positionX+400,positionY = positionY+50,width = 800)\n",
    "\n",
    "\n",
    "# Minhas Vagas /  Contatos\n",
    "positionY <- positionY+1200\n",
    "createCathoSlide(boardId = board, title = \"Estória do Mês\",subtitle = \"Contatos\",frame_title = \"Minhas Vagas / Contatos\",positionX = positionX,positionY = positionY)\n",
    "plot <- createPresignedUrl(file = paste0(S3_IMG_PATH,\"graphics/contacts/volume/\\\"Vagas Gratis(volume)\\\".png\"))\n",
    "createImageItem(boardId = board, url = plot,title = \"\",positionX = positionX,positionY = positionY+50,width = 1600)\n",
    "\n",
    "# Minhas Vagas / Contatos Diários\n",
    "positionY <- positionY+1200\n",
    "createCathoSlide(boardId = board, title = \"Estória do Mês\",subtitle = \"Contatos Diários\",frame_title = \"Minhas Vagas / Contatos Diários\",positionX = positionX,positionY = positionY)\n",
    "plot <- createPresignedUrl(file = paste0(S3_IMG_PATH,\"graphics/contacts/daily/\\\"Vagas Gratis(volume)\\\".png\"))\n",
    "createImageItem(boardId = board, url = plot,title = \"\",positionX = positionX,positionY = positionY+50,width = 1600)\n",
    "\n",
    "# Minhas Vagas /  Logs\n",
    "positionY <- positionY+1200\n",
    "createCathoSlide(boardId = board, title = \"Estória do Mês\",subtitle = \"Logs\",frame_title = \"Minhas Vagas / Logs\",positionX = positionX,positionY = positionY)\n",
    "plot <- createPresignedUrl(file = paste0(S3_IMG_PATH,\"graphics/logs/volume/\\\"Vagas Gratis(volume)\\\".png\"))\n",
    "createImageItem(boardId = board, url = plot,title = \"\",positionX = positionX,positionY = positionY+50,width = 1600)"
   ]
  },
  {
   "cell_type": "markdown",
   "id": "2b410436-fc73-4d88-9510-70e15d616f82",
   "metadata": {},
   "source": [
    "### <span style=\"color:purple\">**Triagem**</span>"
   ]
  },
  {
   "cell_type": "code",
   "execution_count": 17,
   "id": "1ee4fdc9-58d6-435d-b902-72a40c5f54df",
   "metadata": {},
   "outputs": [],
   "source": [
    "# -------------------------  Triagem -------------------------\n",
    "positionX <- 22000\n",
    "positionY <- 1200\n",
    "createCathoSlide(boardId = board, title = \"Estória do Mês\",subtitle = \"Triagem\",frame_title = \"Triagem\",positionX = positionX,positionY = positionY)\n",
    "createTextItem(boardId = board,content = boldText(\"Triagem\"),fontSize = 150,width = 750,positionX = positionX-500,positionY = positionY,color = \"#00249F\", fontFamily = \"open_sans\")\n",
    "fig_triagem <- createPresignedUrl(file = paste0(S3_IMG_PATH,\"template/assets/triagem.png\"))\n",
    "createImageItem(boardId = board, url = fig_triagem,title = \"\",positionX = positionX+400,positionY = positionY+50,width = 900)\n",
    "\n",
    "# Triagem /  Contatos\n",
    "positionY <- positionY+1200\n",
    "createCathoSlide(boardId = board, title = \"Estória do Mês\",subtitle = \"Contatos\",frame_title = \"Triagem / Contatos\",positionX = positionX,positionY = positionY)\n",
    "plot <- createPresignedUrl(file = paste0(S3_IMG_PATH,\"graphics/contacts/volume/\\\"Triagem(volume)\\\".png\"))\n",
    "createImageItem(boardId = board, url = plot,title = \"\",positionX = positionX,positionY = positionY+50,width = 1600)\n",
    "\n",
    "# Triagem / Contatos Diários\n",
    "positionY <- positionY+1200\n",
    "createCathoSlide(boardId = board, title = \"Estória do Mês\",subtitle = \"Contatos Diários\",frame_title = \"Triagem / Contatos Diários\",positionX = positionX,positionY = positionY)\n",
    "plot <- createPresignedUrl(file = paste0(S3_IMG_PATH,\"graphics/contacts/daily/\\\"Triagem(volume)\\\".png\"))\n",
    "createImageItem(boardId = board, url = plot,title = \"\",positionX = positionX,positionY = positionY+50,width = 1600)\n",
    "\n",
    "# Triagem /  Logs\n",
    "positionY <- positionY+1200\n",
    "createCathoSlide(boardId = board, title = \"Estória do Mês\",subtitle = \"Logs\",frame_title = \"Triagem / Logs\",positionX = positionX,positionY = positionY)\n",
    "plot <- createPresignedUrl(file = paste0(S3_IMG_PATH,\"graphics/logs/volume/\\\"Triagem(volume)\\\".png\"))\n",
    "createImageItem(boardId = board, url = plot,title = \"\",positionX = positionX,positionY = positionY+50,width = 1600)"
   ]
  },
  {
   "cell_type": "markdown",
   "id": "78437089-efdc-4326-a3a8-08f20ef803b5",
   "metadata": {},
   "source": [
    "### <span style=\"color:purple\">**Obrigado**</span>"
   ]
  },
  {
   "cell_type": "code",
   "execution_count": 18,
   "id": "7606c6c9-e739-474c-8676-298b6b4093db",
   "metadata": {},
   "outputs": [],
   "source": [
    "# -------------------------  Obrigado -------------------------\n",
    "positionX <- 24000\n",
    "positionY <- 0\n",
    "fig_obrigado <- createPresignedUrl(file = paste0(S3_IMG_PATH,\"template/assets/obrigado.png\"))\n",
    "createCathoThanks(boardId = board,title = \"Estória do Mês\",positionX = positionX,positionY = positionY,fig_obrigado = fig_obrigado)"
   ]
  }
 ],
 "metadata": {
  "kernelspec": {
   "display_name": "R",
   "language": "R",
   "name": "ir"
  },
  "language_info": {
   "codemirror_mode": "r",
   "file_extension": ".r",
   "mimetype": "text/x-r-source",
   "name": "R",
   "pygments_lexer": "r",
   "version": "4.3.2"
  }
 },
 "nbformat": 4,
 "nbformat_minor": 5
}
