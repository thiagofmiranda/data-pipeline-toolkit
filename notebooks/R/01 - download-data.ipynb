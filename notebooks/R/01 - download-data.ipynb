{
 "cells": [
  {
   "cell_type": "markdown",
   "id": "1040b4d1-e0c4-4f47-8dd6-e8d8507caf08",
   "metadata": {},
   "source": [
    "## <span style=\"color:purple\">**Configurações iniciais**</span>"
   ]
  },
  {
   "cell_type": "code",
   "execution_count": 1,
   "id": "e0cf8b4d-858e-478e-b739-2b316d4899c6",
   "metadata": {},
   "outputs": [
    {
     "name": "stderr",
     "output_type": "stream",
     "text": [
      "Loading required package: pacman\n",
      "\n"
     ]
    }
   ],
   "source": [
    "source(\"R/settings.R\")"
   ]
  },
  {
   "cell_type": "code",
   "execution_count": 2,
   "id": "377ae9c2-1354-427a-8d6a-79e7e9cd56f3",
   "metadata": {},
   "outputs": [
    {
     "name": "stdin",
     "output_type": "stream",
     "text": [
      "Please inform Catho Database Credentials ········\n"
     ]
    }
   ],
   "source": [
    "# Informações de acessos\n",
    "ask_secrets_catho()"
   ]
  },
  {
   "cell_type": "code",
   "execution_count": 3,
   "id": "53dab23e-a4a2-4d30-982a-b90e019382e9",
   "metadata": {},
   "outputs": [],
   "source": [
    "# Parâmetros\n",
    "year <- 2024\n",
    "month <- 3"
   ]
  },
  {
   "cell_type": "code",
   "execution_count": 4,
   "id": "0e6d608a-9b7c-4d1c-b062-2f9aa0be5026",
   "metadata": {},
   "outputs": [],
   "source": [
    "S3_PATH <- \"s3://ai-analytics-sotq-framework/catho/new_data/\"\n",
    "OVERWRITE <- FALSE\n",
    "PARALLEL <- TRUE\n",
    "PARALLEL_WORKERS <- 5\n",
    "\n",
    "target_dates_six_months_yoy <- report_dates(year,month,MoM = 5,YoY = 1)\n",
    "target_dates_six_months <- report_dates(year,month,MoM = 5,YoY = 0)\n",
    "target_dates_three_months_yoy <- report_dates(year,month,MoM = 2,YoY = 1)\n",
    "target_dates_three_months <- report_dates(year,month,MoM = 2,YoY = 0)\n",
    "\n",
    "all_target_dates <- report_dates(year,month,MoM = 11,YoY = 2)"
   ]
  },
  {
   "cell_type": "markdown",
   "id": "5c96f490-5c4c-43e2-a852-ec2b26f842b8",
   "metadata": {},
   "source": [
    "## <span style=\"color:purple\">**Download**</span>"
   ]
  },
  {
   "cell_type": "code",
   "execution_count": 5,
   "id": "18d22e87-a0e3-4d05-8098-064fa80989f8",
   "metadata": {},
   "outputs": [
    {
     "name": "stderr",
     "output_type": "stream",
     "text": [
      "Downloading: applies\n",
      "\n",
      "1096 files already exist! downloading 0 of 1096\n",
      "\n",
      "Downloading: contacts\n",
      "\n",
      "1092 files already exist! downloading 4 of 1096\n",
      "\n"
     ]
    }
   ],
   "source": [
    "# Download dos dados\n",
    "download_raw(\n",
    "    types = c(\"applies\",\"contacts\"),\n",
    "    target_dates = all_target_dates,\n",
    "    overwrite=OVERWRITE,\n",
    "    parallel=PARALLEL\n",
    ")"
   ]
  },
  {
   "cell_type": "code",
   "execution_count": 6,
   "id": "3e166221-1557-4c49-aaaf-01d0cedcedd5",
   "metadata": {},
   "outputs": [
    {
     "name": "stderr",
     "output_type": "stream",
     "text": [
      "Downloading: logs health check\n",
      "\n",
      "365 files already exist! downloading 0 of 365\n",
      "\n"
     ]
    }
   ],
   "source": [
    "download_raw(\n",
    "    types = \"logs-health-check\",\n",
    "    target_dates = target_dates_six_months_yoy,\n",
    "    overwrite=OVERWRITE,\n",
    "    parallel=PARALLEL\n",
    ")"
   ]
  },
  {
   "cell_type": "code",
   "execution_count": 7,
   "id": "6d6843d9-857a-47a2-809b-35242c28388c",
   "metadata": {},
   "outputs": [
    {
     "name": "stderr",
     "output_type": "stream",
     "text": [
      "Downloading: job organic logged searches\n",
      "\n",
      "365 files already exist! downloading 0 of 365\n",
      "\n",
      "Downloading: cv organic logged searches\n",
      "\n",
      "365 files already exist! downloading 0 of 365\n",
      "\n"
     ]
    }
   ],
   "source": [
    "download_raw(\n",
    "    types = c(\"job-organic-logged-searches\",\"cv-organic-logged-searches\"),\n",
    "    target_dates = target_dates_six_months_yoy,\n",
    "    overwrite=OVERWRITE,\n",
    "    parallel=PARALLEL\n",
    ")"
   ]
  },
  {
   "cell_type": "markdown",
   "id": "14381c1e-6a26-463f-af77-6c0bb427e313",
   "metadata": {},
   "source": [
    "## <span style=\"color:purple\">**Enrichment**</span>"
   ]
  },
  {
   "cell_type": "code",
   "execution_count": 8,
   "id": "2b98dfda-5b8e-486f-863e-657b4842be8d",
   "metadata": {},
   "outputs": [
    {
     "name": "stderr",
     "output_type": "stream",
     "text": [
      "Enriching: applies\n",
      "\n",
      "1096 files already exist! downloading 0 of 1096\n",
      "\n",
      "\n",
      "\n",
      "Enriching: contacts\n",
      "\n",
      "1092 files already exist! downloading 4 of 1096\n",
      "\n",
      "2022-01-03,2022-04-01,2022-09-01,2023-10-18\n",
      "\n"
     ]
    }
   ],
   "source": [
    "# Enriquecimento dos dados\n",
    "enrich_raw(\n",
    "    types = c(\"applies\",\"contacts\"),\n",
    "    target_dates = all_target_dates,\n",
    "    overwrite=OVERWRITE,\n",
    "    parallel=PARALLEL\n",
    ")"
   ]
  },
  {
   "cell_type": "code",
   "execution_count": 9,
   "id": "064fd290-cb9c-4ec9-acec-ddd88546537a",
   "metadata": {},
   "outputs": [
    {
     "name": "stderr",
     "output_type": "stream",
     "text": [
      "Enriching: job organic logged searches\n",
      "\n",
      "365 files already exist! downloading 0 of 365\n",
      "\n",
      "\n",
      "\n",
      "Enriching: cv organic logged searches\n",
      "\n",
      "365 files already exist! downloading 0 of 365\n",
      "\n",
      "\n",
      "\n"
     ]
    }
   ],
   "source": [
    "PARALLEL_WORKERS <- 2\n",
    "enrich_raw(\n",
    "    types = c(\"job-organic-logged-searches\",\"cv-organic-logged-searches\"), \n",
    "    target_dates = target_dates_six_months_yoy,\n",
    "    overwrite=OVERWRITE,\n",
    "    parallel=PARALLEL\n",
    ")"
   ]
  },
  {
   "cell_type": "markdown",
   "id": "b27f2374-6b92-4ae1-a1e9-4fe12a891eb9",
   "metadata": {},
   "source": [
    "## <span style=\"color:purple\">**Merging**</span>"
   ]
  },
  {
   "cell_type": "code",
   "execution_count": 10,
   "id": "9a63e686-c1f2-40b3-b175-8fa79b600597",
   "metadata": {},
   "outputs": [
    {
     "name": "stderr",
     "output_type": "stream",
     "text": [
      "Merging: applies with searches\n",
      "\n",
      "365 files already exist! downloading 0 of 365\n",
      "\n"
     ]
    }
   ],
   "source": [
    "# Merges\n",
    "PARALLEL_WORKERS <- 10\n",
    "merge_data(\n",
    "   daily_fun = generate_applies_with_searches_daily,\n",
    "   s3_path = paste0(S3_PATH,\"merged/contacts-applies/\"),\n",
    "   conn = get_secret(\"MYSQL_CATHO_HOST_WAREHOUSE\"),\n",
    "   target_dates = target_dates_six_months_yoy,\n",
    "   overwrite=OVERWRITE,parallel=PARALLEL\n",
    ")"
   ]
  }
 ],
 "metadata": {
  "kernelspec": {
   "display_name": "R",
   "language": "R",
   "name": "ir"
  },
  "language_info": {
   "codemirror_mode": "r",
   "file_extension": ".r",
   "mimetype": "text/x-r-source",
   "name": "R",
   "pygments_lexer": "r",
   "version": "4.3.2"
  }
 },
 "nbformat": 4,
 "nbformat_minor": 5
}
