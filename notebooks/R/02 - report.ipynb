{
 "cells": [
  {
   "cell_type": "markdown",
   "id": "bf99834d-ae41-4846-83bd-fc43ccf1927c",
   "metadata": {},
   "source": [
    "## <span style=\"color:purple\">**Configurações iniciais**</span>"
   ]
  },
  {
   "cell_type": "code",
   "execution_count": 1,
   "id": "a691465a-7cec-47c3-9566-0b99fa1cea3b",
   "metadata": {},
   "outputs": [
    {
     "name": "stderr",
     "output_type": "stream",
     "text": [
      "Loading required package: pacman\n",
      "\n"
     ]
    }
   ],
   "source": [
    "source(\"R/settings.R\")"
   ]
  },
  {
   "cell_type": "code",
   "execution_count": 2,
   "id": "b98d1624-863a-4a8d-a762-c65ad1393e37",
   "metadata": {},
   "outputs": [],
   "source": [
    "# Parâmetros\n",
    "year <- 2024\n",
    "month <- 3"
   ]
  },
  {
   "cell_type": "code",
   "execution_count": 3,
   "id": "56cb5a62-8d32-4393-a220-d5e02f8d1504",
   "metadata": {},
   "outputs": [],
   "source": [
    "S3_PATH <- \"s3://ai-analytics-sotq-framework/catho/new_data/\"\n",
    "\n",
    "target_dates_six_months_yoy <- report_dates(year,month,MoM = 5,YoY = 1)\n",
    "target_dates_six_months <- report_dates(year,month,MoM = 5,YoY = 0)\n",
    "target_dates_three_months_yoy <- report_dates(year,month,MoM = 2,YoY = 1)\n",
    "target_dates_three_months <- report_dates(year,month,MoM = 2,YoY = 0)\n",
    "\n",
    "contact_emps_blacklist <- c(1383457,1382097)\n",
    "\n",
    "all_channels_cbu <- c(\"Busca de Vagas\",\"Sugestão de Vagas\",\"Sugestão Delivery\", \"Aviso de Vagas\",\"Vagas Similares\", \"Auto-Apply\")\n",
    "all_channels_hbu <- c(\"Recrutamento Perfeito\",\"Vagas Gratis\",\"Triagem\")\n",
    "all_channels <- c(all_channels_cbu,all_channels_hbu)"
   ]
  },
  {
   "cell_type": "markdown",
   "id": "46b4a5ec-351c-4aff-880e-a92fe2d0f1f6",
   "metadata": {},
   "source": [
    "## <span style=\"color:purple\">**Relatório de Applies**</span>"
   ]
  },
  {
   "cell_type": "code",
   "execution_count": 4,
   "id": "0959cec0-22aa-492a-b16b-d7a935b03fb3",
   "metadata": {},
   "outputs": [
    {
     "name": "stdout",
     "output_type": "stream",
     "text": [
      "Busca de Vagas ok!\n",
      "Sugestão de Vagas ok!\n",
      "Sugestão Delivery ok!\n",
      "Aviso de Vagas ok!\n",
      "Vagas Similares ok!\n",
      "Auto-Apply ok!\n"
     ]
    }
   ],
   "source": [
    "# Applies ---------------------------------------------------------------------\n",
    "# Lendo dados\n",
    "cbu_applies <- summarise_data(\n",
    "  target_dates = target_dates_six_months_yoy,\n",
    "  type = \"applies\",\n",
    "  type_level = \"enriched\",stat_id = \"usr_id\",\n",
    "  groups = c(\"report_channel\",\"apply_device_channel\",\"subscription\",\"apply_quali\",\"year\",\"month\",\"day\"))\n",
    "\n",
    "walk(.x=all_channels_cbu,.f=generate_applies_plots)"
   ]
  },
  {
   "cell_type": "markdown",
   "id": "1c59d001-6e90-43bb-93bb-305bd0643cd4",
   "metadata": {},
   "source": [
    "## <span style=\"color:purple\">**Relatório de Contatos com Apply**</span>"
   ]
  },
  {
   "cell_type": "code",
   "execution_count": 5,
   "id": "d5f53a85-cedb-4779-ab63-11932789c85f",
   "metadata": {},
   "outputs": [
    {
     "name": "stdout",
     "output_type": "stream",
     "text": [
      "Busca de Vagas ok!\n",
      "Sugestão de Vagas ok!\n",
      "Sugestão Delivery ok!\n",
      "Aviso de Vagas ok!\n",
      "Vagas Similares ok!\n",
      "Auto-Apply ok!\n"
     ]
    }
   ],
   "source": [
    "# Contacts from Applies -------------------------------------------------------\n",
    "cbu_contatos_applies <- summarise_data(\n",
    "  target_dates = target_dates_six_months_yoy,\n",
    "  type = \"contacts-applies\",\n",
    "  type_level = \"merged\",stat_id = \"usr_id\",\n",
    "  groups = c(\"report_channel\",\"subscription\",\"year\",\"month\",\"day\"))\n",
    "\n",
    "walk(.x=all_channels_cbu,.f=generate_contacts_applies_plots)"
   ]
  },
  {
   "cell_type": "markdown",
   "id": "5cf0d44d-1523-40a2-a86d-420ff7b8f69a",
   "metadata": {},
   "source": [
    "## <span style=\"color:purple\">**Relatório de Contatos**</span>"
   ]
  },
  {
   "cell_type": "code",
   "execution_count": 6,
   "id": "73e2f400-f0b8-48ec-810b-67e4bff8dfad",
   "metadata": {},
   "outputs": [
    {
     "name": "stdout",
     "output_type": "stream",
     "text": [
      "Recrutamento Perfeito ok!\n",
      "Vagas Gratis ok!\n",
      "Triagem ok!\n"
     ]
    }
   ],
   "source": [
    "# Contacts --------------------------------------------------------------------\n",
    "hbu_contatos <- summarise_data(\n",
    "  target_dates = target_dates_six_months_yoy,\n",
    "  type = \"contacts\",\n",
    "  type_level = \"enriched\",stat_id = \"usr_id\",\n",
    "  groups = c(\"origem\",\"subscription\",\"year\",\"month\",\"day\"))\n",
    "\n",
    "walk(.x=all_channels_hbu,.f=generate_contacts_plots)"
   ]
  },
  {
   "cell_type": "markdown",
   "id": "cec3e03a-eab4-40e1-9b23-99fa4f77a9fa",
   "metadata": {},
   "source": [
    "## <span style=\"color:purple\">**Relatório de Saúde dos Serviços**</span>"
   ]
  },
  {
   "cell_type": "code",
   "execution_count": 7,
   "id": "52f5bb3d-3eb7-4828-8bf8-9157c7ab8590",
   "metadata": {},
   "outputs": [
    {
     "name": "stdout",
     "output_type": "stream",
     "text": [
      "Busca de Vagas ok!\n",
      "Sugestão de Vagas ok!\n",
      "Sugestão Delivery ok!\n",
      "Aviso de Vagas ok!\n",
      "Vagas Similares ok!\n",
      "Auto-Apply ok!\n",
      "Recrutamento Perfeito ok!\n",
      "Vagas Gratis ok!\n",
      "Triagem ok!\n"
     ]
    }
   ],
   "source": [
    "# Health check ----------------------------------------------------------------\n",
    "logs <- summarise_data(\n",
    "  target_dates = target_dates_six_months,\n",
    "  type = \"logs-health-check\",\n",
    "  type_level = \"raw\",stat_id = \"status_label\",\n",
    "  groups = c(\"channel\",\"status_label\",\"year\",\"month\",\"day\"))\n",
    "\n",
    "walk(.x=all_channels,.f=generate_logs_plots)"
   ]
  },
  {
   "cell_type": "markdown",
   "id": "f35549df-db51-4d9b-9d02-0725c8bae330",
   "metadata": {},
   "source": [
    "## <span style=\"color:purple\">**Relatório de Buscas**</span>"
   ]
  },
  {
   "cell_type": "code",
   "execution_count": 8,
   "id": "c4aee1bd-e163-4963-8000-86a7b7558b0a",
   "metadata": {},
   "outputs": [
    {
     "name": "stdout",
     "output_type": "stream",
     "text": [
      "Busca de Vagas ok!\n",
      "Recrutamento Perfeito ok!\n"
     ]
    }
   ],
   "source": [
    "# Top Keywords ----------------------------------------------------------------\n",
    "date_aux <- data.frame(dates = target_dates_three_months_yoy) |>\n",
    "  mutate(period = ifelse(dates %in% target_dates_three_months,\"3 Months\",\"YoY\"))\n",
    "\n",
    "cbu_top_keywords <- summarise_data(\n",
    "  target_dates = target_dates_three_months_yoy,\n",
    "  type = \"job-organic-logged-searches\",\n",
    "  type_level = \"enriched\",stat_id = \"usr_id\",\n",
    "  groups = c(\"keywords_stem\",\"period\"),\n",
    "  df_join = date_aux,df_join_by = c(\"search_date\"=\"dates\")\n",
    ")\n",
    "\n",
    "hbu_top_keywords <- summarise_data(\n",
    "  target_dates = target_dates_three_months_yoy,\n",
    "  type = \"cv-organic-logged-searches\",\n",
    "  type_level = \"enriched\",stat_id = \"emp_id\",\n",
    "  groups = c(\"keywords_stem\",\"period\"),\n",
    "  df_join = date_aux,df_join_by = c(\"search_date\"=\"dates\")\n",
    ")\n",
    "\n",
    "walk(.x=c(\"Busca de Vagas\",\"Recrutamento Perfeito\"),.f=generate_top_keywords_plots)"
   ]
  },
  {
   "cell_type": "markdown",
   "id": "70bdefe8-a1f4-4850-953d-eff3ad34c415",
   "metadata": {},
   "source": [
    "## <span style=\"color:purple\">**Compartilhamento de Plots**</span>"
   ]
  },
  {
   "cell_type": "code",
   "execution_count": 9,
   "id": "0219c2a5-4165-44cc-9d95-62c61d2ca760",
   "metadata": {},
   "outputs": [],
   "source": [
    "# S3 ----------------------------------------------------------------\n",
    "system(\"aws s3 cp plots s3://ai-analytics-sotq-framework/catho/new_img/graphics --recursive\")"
   ]
  }
 ],
 "metadata": {
  "kernelspec": {
   "display_name": "R",
   "language": "R",
   "name": "ir"
  },
  "language_info": {
   "codemirror_mode": "r",
   "file_extension": ".r",
   "mimetype": "text/x-r-source",
   "name": "R",
   "pygments_lexer": "r",
   "version": "4.3.2"
  }
 },
 "nbformat": 4,
 "nbformat_minor": 5
}
